{
 "cells": [
  {
   "cell_type": "markdown",
   "metadata": {},
   "source": [
    "# Основное задание\n",
    "Возьмите датасет https://www.kaggle.com/ajayrana/hymenoptera-data/kernels  \n",
    "1.Обучите на нем модели ResNet 18 и VGG 16 с нуля (5-10 эпох)  \n",
    "2.Обучите на нем модели ResNet 18 и VGG 16 с использованием FineTuning (5-10 эпох)  \n",
    "3.Добавьте аугментацию данных к пункту 2  \n",
    "  \n",
    "Сравните качество всех 3 полученных подходов  \n",
    "  \n",
    "# Задание со звездочкой  \n",
    "Примените FineTuning ResNet 18 к FashionMnist. Удалось ли увидеть резкое увеличение качества?  "
   ]
  },
  {
   "cell_type": "markdown",
   "metadata": {},
   "source": [
    "import libraries"
   ]
  },
  {
   "cell_type": "code",
   "execution_count": 14,
   "metadata": {},
   "outputs": [],
   "source": [
    "import torch\n",
    "from torch import nn\n",
    "import torchvision.models as models\n",
    "\n",
    "import torchvision as tv\n",
    "import time\n",
    "\n",
    "import os"
   ]
  },
  {
   "cell_type": "code",
   "execution_count": 15,
   "metadata": {},
   "outputs": [],
   "source": [
    "dev = torch.device('cuda') if torch.cuda.is_available() else torch.device('cpu')"
   ]
  },
  {
   "cell_type": "code",
   "execution_count": 16,
   "metadata": {},
   "outputs": [
    {
     "data": {
      "text/plain": [
       "device(type='cuda')"
      ]
     },
     "execution_count": 16,
     "metadata": {},
     "output_type": "execute_result"
    }
   ],
   "source": [
    "dev"
   ]
  },
  {
   "cell_type": "markdown",
   "metadata": {},
   "source": [
    "helpers"
   ]
  },
  {
   "cell_type": "code",
   "execution_count": null,
   "metadata": {},
   "outputs": [],
   "source": []
  },
  {
   "cell_type": "markdown",
   "metadata": {},
   "source": [
    "load data"
   ]
  },
  {
   "cell_type": "code",
   "execution_count": 17,
   "metadata": {},
   "outputs": [],
   "source": [
    "data_dir = '../dll_hw_4_modern_cnn/hymenoptera_data/'"
   ]
  },
  {
   "cell_type": "code",
   "execution_count": 18,
   "metadata": {},
   "outputs": [],
   "source": [
    "BATCH_SIZE = 32"
   ]
  },
  {
   "cell_type": "code",
   "execution_count": 19,
   "metadata": {},
   "outputs": [
    {
     "name": "stdout",
     "output_type": "stream",
     "text": [
      "Initializing Datasets and Dataloaders...\n"
     ]
    }
   ],
   "source": [
    "# Data augmentation and normalization for training\n",
    "# Just normalization for validation\n",
    "data_transforms = {\n",
    "    'train': tv.transforms.Compose([\n",
    "#         tv.transforms.RandomResizedCrop(224),\n",
    "#         tv.transforms.RandomHorizontalFlip(),\n",
    "#         tv.transforms.RandomVerticalFlip(),\n",
    "        tv.transforms.CenterCrop(224),\n",
    "        tv.transforms.ToTensor(),\n",
    "        tv.transforms.Normalize([0.485, 0.456, 0.406], [0.229, 0.224, 0.225])\n",
    "    ]),\n",
    "    'val': tv.transforms.Compose([\n",
    "        tv.transforms.Resize(256),\n",
    "        tv.transforms.CenterCrop(224),\n",
    "        tv.transforms.ToTensor(),\n",
    "        tv.transforms.Normalize([0.485, 0.456, 0.406], [0.229, 0.224, 0.225])\n",
    "    ]),\n",
    "}\n",
    "\n",
    "print(\"Initializing Datasets and Dataloaders...\")\n",
    "\n",
    "# Create training and validation datasets\n",
    "image_datasets = {x: tv.datasets.ImageFolder(os.path.join(data_dir, x), data_transforms[x]) for x in ['train', 'val']}\n",
    "# Create training and validation dataloaders\n",
    "dataloaders_dict = {x: torch.utils.data.DataLoader(image_datasets[x], batch_size=BATCH_SIZE, shuffle=True, num_workers=4) for x in ['train', 'val']}\n",
    "\n",
    "# Detect if we have a GPU available\n",
    "device = torch.device(\"cuda:0\" if torch.cuda.is_available() else \"cpu\")"
   ]
  },
  {
   "cell_type": "markdown",
   "metadata": {},
   "source": [
    "create model"
   ]
  },
  {
   "cell_type": "code",
   "execution_count": 20,
   "metadata": {},
   "outputs": [],
   "source": [
    "# import torchvision.models as models\n",
    "# resnet18 = models.resnet18()\n",
    "# alexnet = models.alexnet()\n",
    "# vgg16 = models.vgg16()\n",
    "# squeezenet = models.squeezenet1_0()\n",
    "# densenet = models.densenet161()\n",
    "# inception = models.inception_v3()\n",
    "# googlenet = models.googlenet()\n",
    "# shufflenet = models.shufflenet_v2_x1_0()\n",
    "# mobilenet = models.mobilenet_v2()\n",
    "# resnext50_32x4d = models.resnext50_32x4d()\n",
    "# wide_resnet50_2 = models.wide_resnet50_2()\n",
    "# mnasnet = models.mnasnet1_0()"
   ]
  },
  {
   "cell_type": "code",
   "execution_count": 21,
   "metadata": {},
   "outputs": [],
   "source": [
    "# import torchvision.models as models\n",
    "# resnet18 = models.resnet18(pretrained=True)\n",
    "# alexnet = models.alexnet(pretrained=True)\n",
    "# squeezenet = models.squeezenet1_0(pretrained=True)\n",
    "# vgg16 = models.vgg16(pretrained=True)\n",
    "# densenet = models.densenet161(pretrained=True)\n",
    "# inception = models.inception_v3(pretrained=True)\n",
    "# googlenet = models.googlenet(pretrained=True)\n",
    "# shufflenet = models.shufflenet_v2_x1_0(pretrained=True)\n",
    "# mobilenet = models.mobilenet_v2(pretrained=True)\n",
    "# resnext50_32x4d = models.resnext50_32x4d(pretrained=True)\n",
    "# wide_resnet50_2 = models.wide_resnet50_2(pretrained=True)\n",
    "# mnasnet = models.mnasnet1_0(pretrained=True)"
   ]
  },
  {
   "cell_type": "markdown",
   "metadata": {},
   "source": [
    "# 1.Обучите на нем модели ResNet 18 и VGG 16 с нуля (5-10 эпох)"
   ]
  },
  {
   "cell_type": "markdown",
   "metadata": {},
   "source": [
    "# ResNet 18"
   ]
  },
  {
   "cell_type": "code",
   "execution_count": 22,
   "metadata": {},
   "outputs": [],
   "source": [
    "model = models.resnet18()"
   ]
  },
  {
   "cell_type": "markdown",
   "metadata": {},
   "source": [
    "train model"
   ]
  },
  {
   "cell_type": "code",
   "execution_count": 23,
   "metadata": {},
   "outputs": [],
   "source": [
    "model = model.to(dev)"
   ]
  },
  {
   "cell_type": "code",
   "execution_count": 24,
   "metadata": {},
   "outputs": [],
   "source": [
    "def evaluate_accuracy(data_iter, net, dev):\n",
    "    acc_sum, n = torch.Tensor([0]).to(dev), 0\n",
    "    net.eval()\n",
    "    for X, y in data_iter:\n",
    "        X, y = X.to(dev), y.to(dev)\n",
    "        acc_sum += (net(X).argmax(axis=1) == y).sum()\n",
    "        n += y.shape[0]\n",
    "    return acc_sum.item() / n"
   ]
  },
  {
   "cell_type": "code",
   "execution_count": 25,
   "metadata": {},
   "outputs": [],
   "source": [
    "def train(net, train_iter, test_iter, trainer, num_epochs, dev):\n",
    "    loss = nn.CrossEntropyLoss(reduction='sum')\n",
    "    net.train()\n",
    "    for epoch in range(num_epochs):\n",
    "        train_l_sum, train_acc_sum, n, start = 0.0, 0.0, 0, time.time()\n",
    "        for X, y in train_iter:\n",
    "            trainer.zero_grad()\n",
    "            X, y = X.to(dev), y.to(dev)\n",
    "            y_hat = net(X)\n",
    "            l = loss(y_hat, y)\n",
    "            l.backward()\n",
    "            trainer.step()\n",
    "            train_l_sum += l.item()\n",
    "            train_acc_sum += (y_hat.argmax(axis=1) == y).sum().item()\n",
    "            n += y.shape[0]\n",
    "            print(\"Step. time since epoch: {:.3f}. Train acc: {:.3f}. Train Loss: {:.3f}\".format(time.time() -  start,\n",
    "                (y_hat.argmax(axis=1) == y).sum().item() / y.shape[0], l.item()))\n",
    "        test_acc = evaluate_accuracy(test_iter, net, dev)\n",
    "        print('epoch %d, loss %.4f, train acc %.3f, test acc %.3f, '\n",
    "              'time %.1f sec'\n",
    "              % (epoch + 1, train_l_sum / n, train_acc_sum / n, test_acc,\n",
    "                 time.time() - start))"
   ]
  },
  {
   "cell_type": "code",
   "execution_count": 26,
   "metadata": {},
   "outputs": [
    {
     "name": "stdout",
     "output_type": "stream",
     "text": [
      "Step. time since epoch: 3.697. Train acc: 0.000. Train Loss: 226.690\n",
      "Step. time since epoch: 3.768. Train acc: 0.438. Train Loss: 190.569\n",
      "Step. time since epoch: 3.838. Train acc: 0.562. Train Loss: 131.861\n",
      "Step. time since epoch: 3.900. Train acc: 0.625. Train Loss: 85.485\n",
      "Step. time since epoch: 3.965. Train acc: 0.625. Train Loss: 110.623\n",
      "Step. time since epoch: 4.022. Train acc: 0.531. Train Loss: 103.986\n",
      "Step. time since epoch: 4.078. Train acc: 0.562. Train Loss: 61.181\n",
      "Step. time since epoch: 4.119. Train acc: 0.650. Train Loss: 24.302\n",
      "epoch 1, loss 3.8307, train acc 0.492, test acc 0.340, time 7.2 sec\n",
      "Step. time since epoch: 1.903. Train acc: 0.312. Train Loss: 649.054\n",
      "Step. time since epoch: 2.004. Train acc: 0.531. Train Loss: 193.739\n",
      "Step. time since epoch: 2.122. Train acc: 0.625. Train Loss: 146.253\n",
      "Step. time since epoch: 2.240. Train acc: 0.469. Train Loss: 120.859\n",
      "Step. time since epoch: 2.302. Train acc: 0.375. Train Loss: 51.031\n",
      "Step. time since epoch: 2.360. Train acc: 0.469. Train Loss: 27.572\n",
      "Step. time since epoch: 2.416. Train acc: 0.438. Train Loss: 35.055\n",
      "Step. time since epoch: 2.456. Train acc: 0.450. Train Loss: 19.394\n",
      "epoch 2, loss 5.0941, train acc 0.459, test acc 0.542, time 5.2 sec\n",
      "Step. time since epoch: 1.930. Train acc: 0.500. Train Loss: 30.748\n",
      "Step. time since epoch: 2.021. Train acc: 0.469. Train Loss: 22.392\n",
      "Step. time since epoch: 2.135. Train acc: 0.500. Train Loss: 24.764\n",
      "Step. time since epoch: 2.242. Train acc: 0.531. Train Loss: 24.981\n",
      "Step. time since epoch: 2.302. Train acc: 0.406. Train Loss: 25.629\n",
      "Step. time since epoch: 2.358. Train acc: 0.469. Train Loss: 22.646\n",
      "Step. time since epoch: 2.417. Train acc: 0.438. Train Loss: 25.737\n",
      "Step. time since epoch: 2.457. Train acc: 0.450. Train Loss: 15.244\n",
      "epoch 3, loss 0.7875, train acc 0.471, test acc 0.542, time 5.2 sec\n",
      "Step. time since epoch: 1.859. Train acc: 0.500. Train Loss: 23.191\n",
      "Step. time since epoch: 1.986. Train acc: 0.531. Train Loss: 22.110\n",
      "Step. time since epoch: 2.100. Train acc: 0.469. Train Loss: 22.298\n",
      "Step. time since epoch: 2.223. Train acc: 0.719. Train Loss: 21.358\n",
      "Step. time since epoch: 2.282. Train acc: 0.688. Train Loss: 20.870\n",
      "Step. time since epoch: 2.344. Train acc: 0.406. Train Loss: 25.909\n",
      "Step. time since epoch: 2.400. Train acc: 0.406. Train Loss: 25.721\n",
      "Step. time since epoch: 2.440. Train acc: 0.450. Train Loss: 14.683\n",
      "epoch 4, loss 0.7219, train acc 0.525, test acc 0.458, time 5.3 sec\n",
      "Step. time since epoch: 1.945. Train acc: 0.281. Train Loss: 23.240\n",
      "Step. time since epoch: 2.011. Train acc: 0.562. Train Loss: 21.986\n",
      "Step. time since epoch: 2.085. Train acc: 0.438. Train Loss: 24.491\n",
      "Step. time since epoch: 2.218. Train acc: 0.531. Train Loss: 23.187\n",
      "Step. time since epoch: 2.312. Train acc: 0.438. Train Loss: 24.975\n",
      "Step. time since epoch: 2.367. Train acc: 0.469. Train Loss: 23.609\n",
      "Step. time since epoch: 2.423. Train acc: 0.312. Train Loss: 24.001\n",
      "Step. time since epoch: 2.467. Train acc: 0.550. Train Loss: 13.916\n",
      "epoch 5, loss 0.7353, train acc 0.443, test acc 0.451, time 5.2 sec\n",
      "Step. time since epoch: 1.881. Train acc: 0.469. Train Loss: 23.810\n",
      "Step. time since epoch: 2.040. Train acc: 0.531. Train Loss: 22.842\n",
      "Step. time since epoch: 2.172. Train acc: 0.500. Train Loss: 22.621\n",
      "Step. time since epoch: 2.237. Train acc: 0.469. Train Loss: 22.754\n",
      "Step. time since epoch: 2.299. Train acc: 0.562. Train Loss: 21.912\n",
      "Step. time since epoch: 2.360. Train acc: 0.438. Train Loss: 22.812\n",
      "Step. time since epoch: 2.420. Train acc: 0.656. Train Loss: 21.602\n",
      "Step. time since epoch: 2.460. Train acc: 0.550. Train Loss: 13.789\n",
      "epoch 6, loss 0.7055, train acc 0.520, test acc 0.529, time 5.2 sec\n",
      "Step. time since epoch: 1.864. Train acc: 0.656. Train Loss: 21.153\n",
      "Step. time since epoch: 1.938. Train acc: 0.531. Train Loss: 22.862\n",
      "Step. time since epoch: 2.109. Train acc: 0.469. Train Loss: 23.218\n",
      "Step. time since epoch: 2.199. Train acc: 0.500. Train Loss: 22.076\n",
      "Step. time since epoch: 2.258. Train acc: 0.688. Train Loss: 20.146\n",
      "Step. time since epoch: 2.316. Train acc: 0.562. Train Loss: 22.502\n",
      "Step. time since epoch: 2.376. Train acc: 0.344. Train Loss: 25.088\n",
      "Step. time since epoch: 2.416. Train acc: 0.500. Train Loss: 14.018\n",
      "epoch 7, loss 0.7011, train acc 0.533, test acc 0.458, time 5.2 sec\n",
      "Step. time since epoch: 1.859. Train acc: 0.594. Train Loss: 21.840\n",
      "Step. time since epoch: 1.960. Train acc: 0.594. Train Loss: 23.041\n",
      "Step. time since epoch: 2.175. Train acc: 0.469. Train Loss: 26.687\n",
      "Step. time since epoch: 2.247. Train acc: 0.562. Train Loss: 22.875\n",
      "Step. time since epoch: 2.307. Train acc: 0.375. Train Loss: 26.334\n",
      "Step. time since epoch: 2.366. Train acc: 0.469. Train Loss: 23.107\n",
      "Step. time since epoch: 2.427. Train acc: 0.531. Train Loss: 22.300\n",
      "Step. time since epoch: 2.467. Train acc: 0.600. Train Loss: 13.977\n",
      "epoch 8, loss 0.7384, train acc 0.520, test acc 0.542, time 5.2 sec\n",
      "Step. time since epoch: 1.899. Train acc: 0.625. Train Loss: 21.484\n",
      "Step. time since epoch: 2.010. Train acc: 0.469. Train Loss: 23.782\n",
      "Step. time since epoch: 2.107. Train acc: 0.438. Train Loss: 25.418\n",
      "Step. time since epoch: 2.231. Train acc: 0.562. Train Loss: 22.725\n",
      "Step. time since epoch: 2.298. Train acc: 0.594. Train Loss: 21.689\n",
      "Step. time since epoch: 2.364. Train acc: 0.500. Train Loss: 23.757\n",
      "Step. time since epoch: 2.425. Train acc: 0.344. Train Loss: 25.468\n",
      "Step. time since epoch: 2.465. Train acc: 0.400. Train Loss: 14.756\n",
      "epoch 9, loss 0.7339, train acc 0.496, test acc 0.575, time 5.2 sec\n",
      "Step. time since epoch: 1.831. Train acc: 0.438. Train Loss: 22.570\n",
      "Step. time since epoch: 1.990. Train acc: 0.500. Train Loss: 22.519\n",
      "Step. time since epoch: 2.093. Train acc: 0.500. Train Loss: 22.102\n",
      "Step. time since epoch: 2.175. Train acc: 0.656. Train Loss: 20.716\n",
      "Step. time since epoch: 2.238. Train acc: 0.531. Train Loss: 22.521\n",
      "Step. time since epoch: 2.294. Train acc: 0.344. Train Loss: 25.428\n",
      "Step. time since epoch: 2.354. Train acc: 0.469. Train Loss: 22.608\n",
      "Step. time since epoch: 2.395. Train acc: 0.600. Train Loss: 13.418\n",
      "epoch 10, loss 0.7044, train acc 0.500, test acc 0.516, time 5.2 sec\n"
     ]
    }
   ],
   "source": [
    "lr, num_epochs = 0.001, 10\n",
    "trainer = torch.optim.Adam(model.parameters(), lr=lr)\n",
    "train(model, dataloaders_dict['train'], dataloaders_dict['val'], trainer, num_epochs, dev)"
   ]
  },
  {
   "cell_type": "code",
   "execution_count": 27,
   "metadata": {},
   "outputs": [],
   "source": [
    "# release CUDA\n",
    "model.eval()\n",
    "torch.cuda.empty_cache()"
   ]
  },
  {
   "cell_type": "markdown",
   "metadata": {},
   "source": [
    "# VGG 16"
   ]
  },
  {
   "cell_type": "code",
   "execution_count": 28,
   "metadata": {},
   "outputs": [],
   "source": [
    "model = models.vgg16()"
   ]
  },
  {
   "cell_type": "markdown",
   "metadata": {},
   "source": [
    "train model"
   ]
  },
  {
   "cell_type": "code",
   "execution_count": 29,
   "metadata": {},
   "outputs": [],
   "source": [
    "model = model.to(dev)"
   ]
  },
  {
   "cell_type": "code",
   "execution_count": 30,
   "metadata": {},
   "outputs": [],
   "source": [
    "def evaluate_accuracy(data_iter, net, dev):\n",
    "    acc_sum, n = torch.Tensor([0]).to(dev), 0\n",
    "    net.eval()\n",
    "    for X, y in data_iter:\n",
    "        X, y = X.to(dev), y.to(dev)\n",
    "        acc_sum += (net(X).argmax(axis=1) == y).sum()\n",
    "        n += y.shape[0]\n",
    "    return acc_sum.item() / n"
   ]
  },
  {
   "cell_type": "code",
   "execution_count": 31,
   "metadata": {},
   "outputs": [],
   "source": [
    "def train(net, train_iter, test_iter, trainer, num_epochs, dev):\n",
    "    loss = nn.CrossEntropyLoss(reduction='sum')\n",
    "    net.train()\n",
    "    for epoch in range(num_epochs):\n",
    "        train_l_sum, train_acc_sum, n, start = 0.0, 0.0, 0, time.time()\n",
    "        for X, y in train_iter:\n",
    "            trainer.zero_grad()\n",
    "            X, y = X.to(dev), y.to(dev)\n",
    "            y_hat = net(X)\n",
    "            l = loss(y_hat, y)\n",
    "            l.backward()\n",
    "            trainer.step()\n",
    "            train_l_sum += l.item()\n",
    "            train_acc_sum += (y_hat.argmax(axis=1) == y).sum().item()\n",
    "            n += y.shape[0]\n",
    "            print(\"Step. time since epoch: {:.3f}. Train acc: {:.3f}. Train Loss: {:.3f}\".format(time.time() -  start,\n",
    "                (y_hat.argmax(axis=1) == y).sum().item() / y.shape[0], l.item()))\n",
    "        test_acc = evaluate_accuracy(test_iter, net, dev)\n",
    "        print('epoch %d, loss %.4f, train acc %.3f, test acc %.3f, '\n",
    "              'time %.1f sec'\n",
    "              % (epoch + 1, train_l_sum / n, train_acc_sum / n, test_acc,\n",
    "                 time.time() - start))"
   ]
  },
  {
   "cell_type": "code",
   "execution_count": 32,
   "metadata": {},
   "outputs": [
    {
     "name": "stdout",
     "output_type": "stream",
     "text": [
      "Step. time since epoch: 3.229. Train acc: 0.000. Train Loss: 222.352\n",
      "Step. time since epoch: 3.440. Train acc: 0.469. Train Loss: 6032.982\n",
      "Step. time since epoch: 3.820. Train acc: 0.656. Train Loss: 185.796\n",
      "Step. time since epoch: 4.028. Train acc: 0.531. Train Loss: 250.057\n",
      "Step. time since epoch: 4.237. Train acc: 0.438. Train Loss: 206.558\n",
      "Step. time since epoch: 4.446. Train acc: 0.594. Train Loss: 206.309\n",
      "Step. time since epoch: 4.654. Train acc: 0.406. Train Loss: 193.135\n",
      "Step. time since epoch: 4.817. Train acc: 0.400. Train Loss: 99.354\n",
      "epoch 1, loss 30.3137, train acc 0.439, test acc 0.542, time 7.7 sec\n",
      "Step. time since epoch: 2.774. Train acc: 0.469. Train Loss: 150.171\n",
      "Step. time since epoch: 2.984. Train acc: 0.500. Train Loss: 118.046\n",
      "Step. time since epoch: 3.293. Train acc: 0.594. Train Loss: 128.473\n",
      "Step. time since epoch: 3.603. Train acc: 0.469. Train Loss: 113.479\n",
      "Step. time since epoch: 3.810. Train acc: 0.531. Train Loss: 100.342\n",
      "Step. time since epoch: 4.019. Train acc: 0.500. Train Loss: 104.992\n",
      "Step. time since epoch: 4.228. Train acc: 0.438. Train Loss: 93.358\n",
      "Step. time since epoch: 4.389. Train acc: 0.450. Train Loss: 56.453\n",
      "epoch 2, loss 3.5464, train acc 0.496, test acc 0.542, time 7.5 sec\n",
      "Step. time since epoch: 2.144. Train acc: 0.594. Train Loss: 70.531\n",
      "Step. time since epoch: 2.360. Train acc: 0.469. Train Loss: 84.434\n",
      "Step. time since epoch: 2.570. Train acc: 0.656. Train Loss: 46.398\n",
      "Step. time since epoch: 2.780. Train acc: 0.500. Train Loss: 55.734\n",
      "Step. time since epoch: 2.988. Train acc: 0.531. Train Loss: 48.915\n",
      "Step. time since epoch: 3.196. Train acc: 0.375. Train Loss: 51.737\n",
      "Step. time since epoch: 3.407. Train acc: 0.312. Train Loss: 42.119\n",
      "Step. time since epoch: 3.565. Train acc: 0.550. Train Loss: 15.926\n",
      "epoch 3, loss 1.7041, train acc 0.496, test acc 0.458, time 6.4 sec\n",
      "Step. time since epoch: 2.163. Train acc: 0.500. Train Loss: 22.827\n",
      "Step. time since epoch: 2.375. Train acc: 0.531. Train Loss: 23.296\n",
      "Step. time since epoch: 2.584. Train acc: 0.562. Train Loss: 24.692\n",
      "Step. time since epoch: 2.793. Train acc: 0.500. Train Loss: 27.459\n",
      "Step. time since epoch: 3.001. Train acc: 0.500. Train Loss: 24.166\n",
      "Step. time since epoch: 3.211. Train acc: 0.469. Train Loss: 22.337\n",
      "Step. time since epoch: 3.418. Train acc: 0.562. Train Loss: 22.967\n",
      "Step. time since epoch: 3.581. Train acc: 0.550. Train Loss: 15.680\n",
      "epoch 4, loss 0.7517, train acc 0.520, test acc 0.542, time 6.5 sec\n",
      "Step. time since epoch: 2.140. Train acc: 0.500. Train Loss: 26.947\n",
      "Step. time since epoch: 2.353. Train acc: 0.219. Train Loss: 28.305\n",
      "Step. time since epoch: 2.564. Train acc: 0.438. Train Loss: 25.295\n",
      "Step. time since epoch: 2.771. Train acc: 0.500. Train Loss: 28.539\n",
      "Step. time since epoch: 2.979. Train acc: 0.438. Train Loss: 30.967\n",
      "Step. time since epoch: 3.192. Train acc: 0.469. Train Loss: 24.890\n",
      "Step. time since epoch: 3.402. Train acc: 0.500. Train Loss: 22.187\n",
      "Step. time since epoch: 3.564. Train acc: 0.650. Train Loss: 12.949\n",
      "epoch 5, loss 0.8200, train acc 0.455, test acc 0.542, time 6.4 sec\n",
      "Step. time since epoch: 2.114. Train acc: 0.312. Train Loss: 33.804\n",
      "Step. time since epoch: 2.365. Train acc: 0.531. Train Loss: 25.571\n",
      "Step. time since epoch: 2.574. Train acc: 0.469. Train Loss: 25.865\n",
      "Step. time since epoch: 2.787. Train acc: 0.625. Train Loss: 21.172\n",
      "Step. time since epoch: 2.996. Train acc: 0.500. Train Loss: 22.312\n",
      "Step. time since epoch: 3.205. Train acc: 0.500. Train Loss: 22.220\n",
      "Step. time since epoch: 3.415. Train acc: 0.500. Train Loss: 22.597\n",
      "Step. time since epoch: 3.574. Train acc: 0.450. Train Loss: 14.836\n",
      "epoch 6, loss 0.7720, train acc 0.488, test acc 0.458, time 6.5 sec\n",
      "Step. time since epoch: 2.122. Train acc: 0.406. Train Loss: 24.690\n",
      "Step. time since epoch: 2.332. Train acc: 0.562. Train Loss: 22.023\n",
      "Step. time since epoch: 2.543. Train acc: 0.344. Train Loss: 24.001\n",
      "Step. time since epoch: 2.769. Train acc: 0.562. Train Loss: 22.097\n",
      "Step. time since epoch: 2.976. Train acc: 0.438. Train Loss: 22.528\n",
      "Step. time since epoch: 3.185. Train acc: 0.500. Train Loss: 22.334\n",
      "Step. time since epoch: 3.393. Train acc: 0.469. Train Loss: 22.521\n",
      "Step. time since epoch: 3.554. Train acc: 0.400. Train Loss: 14.186\n",
      "epoch 7, loss 0.7147, train acc 0.463, test acc 0.542, time 6.5 sec\n",
      "Step. time since epoch: 2.140. Train acc: 0.531. Train Loss: 22.178\n",
      "Step. time since epoch: 2.353. Train acc: 0.406. Train Loss: 22.265\n",
      "Step. time since epoch: 2.567. Train acc: 0.469. Train Loss: 22.367\n",
      "Step. time since epoch: 2.774. Train acc: 0.594. Train Loss: 21.985\n",
      "Step. time since epoch: 2.984. Train acc: 0.562. Train Loss: 21.994\n",
      "Step. time since epoch: 3.191. Train acc: 0.438. Train Loss: 22.888\n",
      "Step. time since epoch: 3.401. Train acc: 0.500. Train Loss: 22.397\n",
      "Step. time since epoch: 3.559. Train acc: 0.350. Train Loss: 14.544\n",
      "epoch 8, loss 0.6993, train acc 0.488, test acc 0.458, time 6.4 sec\n",
      "Step. time since epoch: 2.116. Train acc: 0.438. Train Loss: 22.419\n",
      "Step. time since epoch: 2.327. Train acc: 0.531. Train Loss: 22.153\n",
      "Step. time since epoch: 2.536. Train acc: 0.531. Train Loss: 22.128\n",
      "Step. time since epoch: 2.746. Train acc: 0.531. Train Loss: 22.219\n",
      "Step. time since epoch: 2.955. Train acc: 0.406. Train Loss: 23.663\n",
      "Step. time since epoch: 3.164. Train acc: 0.562. Train Loss: 21.938\n",
      "Step. time since epoch: 3.392. Train acc: 0.375. Train Loss: 23.376\n",
      "Step. time since epoch: 3.553. Train acc: 0.450. Train Loss: 14.065\n",
      "epoch 9, loss 0.7048, train acc 0.480, test acc 0.542, time 6.4 sec\n",
      "Step. time since epoch: 2.086. Train acc: 0.562. Train Loss: 22.149\n",
      "Step. time since epoch: 2.418. Train acc: 0.469. Train Loss: 22.251\n",
      "Step. time since epoch: 2.628. Train acc: 0.438. Train Loss: 22.365\n",
      "Step. time since epoch: 2.843. Train acc: 0.562. Train Loss: 22.080\n",
      "Step. time since epoch: 3.051. Train acc: 0.562. Train Loss: 22.032\n",
      "Step. time since epoch: 3.267. Train acc: 0.562. Train Loss: 21.982\n",
      "Step. time since epoch: 3.474. Train acc: 0.531. Train Loss: 22.151\n",
      "Step. time since epoch: 3.636. Train acc: 0.450. Train Loss: 14.260\n",
      "epoch 10, loss 0.6937, train acc 0.520, test acc 0.458, time 6.7 sec\n"
     ]
    }
   ],
   "source": [
    "lr, num_epochs = 0.001, 10\n",
    "trainer = torch.optim.Adam(model.parameters(), lr=lr)\n",
    "train(model, dataloaders_dict['train'], dataloaders_dict['val'], trainer, num_epochs, dev)"
   ]
  },
  {
   "cell_type": "markdown",
   "metadata": {},
   "source": [
    "# 2.Обучите на нем модели ResNet 18 и VGG 16 с использованием FineTuning (5-10 эпох)"
   ]
  },
  {
   "cell_type": "markdown",
   "metadata": {},
   "source": [
    "# ResNet 18 pretrained"
   ]
  },
  {
   "cell_type": "code",
   "execution_count": 33,
   "metadata": {},
   "outputs": [],
   "source": [
    "model = models.resnet18(pretrained=True)"
   ]
  },
  {
   "cell_type": "markdown",
   "metadata": {},
   "source": [
    "train model"
   ]
  },
  {
   "cell_type": "code",
   "execution_count": 34,
   "metadata": {},
   "outputs": [],
   "source": [
    "model = model.to(dev)"
   ]
  },
  {
   "cell_type": "code",
   "execution_count": 35,
   "metadata": {
    "ExecuteTime": {
     "end_time": "2019-11-18T17:23:47.319979Z",
     "start_time": "2019-11-18T17:23:47.316747Z"
    }
   },
   "outputs": [],
   "source": [
    "## Убираем требование градиента:\n",
    "for param in model.parameters():\n",
    "    param.requires_grad = False"
   ]
  },
  {
   "cell_type": "code",
   "execution_count": 36,
   "metadata": {
    "ExecuteTime": {
     "end_time": "2019-11-18T17:24:04.770976Z",
     "start_time": "2019-11-18T17:24:04.766810Z"
    }
   },
   "outputs": [
    {
     "data": {
      "text/plain": [
       "Linear(in_features=512, out_features=1000, bias=True)"
      ]
     },
     "execution_count": 36,
     "metadata": {},
     "output_type": "execute_result"
    }
   ],
   "source": [
    "model.fc"
   ]
  },
  {
   "cell_type": "code",
   "execution_count": 37,
   "metadata": {
    "ExecuteTime": {
     "end_time": "2019-11-18T17:24:12.305790Z",
     "start_time": "2019-11-18T17:24:12.302517Z"
    }
   },
   "outputs": [],
   "source": [
    "model.fc = nn.Linear(in_features=512, out_features=2).to(dev)"
   ]
  },
  {
   "cell_type": "code",
   "execution_count": 38,
   "metadata": {
    "ExecuteTime": {
     "end_time": "2019-11-18T17:24:42.228326Z",
     "start_time": "2019-11-18T17:24:42.222643Z"
    }
   },
   "outputs": [
    {
     "name": "stdout",
     "output_type": "stream",
     "text": [
      "Params to learn:\n",
      "\t fc.weight\n",
      "\t fc.bias\n"
     ]
    }
   ],
   "source": [
    "print(\"Params to learn:\")\n",
    "params_to_update = []\n",
    "for name,param in model.named_parameters():\n",
    "    if param.requires_grad == True:\n",
    "        params_to_update.append(param)\n",
    "        print(\"\\t\",name)"
   ]
  },
  {
   "cell_type": "code",
   "execution_count": 39,
   "metadata": {},
   "outputs": [],
   "source": [
    "def evaluate_accuracy(data_iter, net, dev):\n",
    "    acc_sum, n = torch.Tensor([0]).to(dev), 0\n",
    "    net.eval()\n",
    "    for X, y in data_iter:\n",
    "        X, y = X.to(dev), y.to(dev)\n",
    "        acc_sum += (net(X).argmax(axis=1) == y).sum()\n",
    "        n += y.shape[0]\n",
    "    return acc_sum.item() / n"
   ]
  },
  {
   "cell_type": "code",
   "execution_count": 40,
   "metadata": {},
   "outputs": [],
   "source": [
    "def train(net, train_iter, test_iter, trainer, num_epochs, dev):\n",
    "    loss = nn.CrossEntropyLoss(reduction='sum')\n",
    "    net.train()\n",
    "    for epoch in range(num_epochs):\n",
    "        train_l_sum, train_acc_sum, n, start = 0.0, 0.0, 0, time.time()\n",
    "        for X, y in train_iter:\n",
    "            trainer.zero_grad()\n",
    "            X, y = X.to(dev), y.to(dev)\n",
    "            y_hat = net(X)\n",
    "            l = loss(y_hat, y)\n",
    "            l.backward()\n",
    "            trainer.step()\n",
    "            train_l_sum += l.item()\n",
    "            train_acc_sum += (y_hat.argmax(axis=1) == y).sum().item()\n",
    "            n += y.shape[0]\n",
    "            print(\"Step. time since epoch: {:.3f}. Train acc: {:.3f}. Train Loss: {:.3f}\".format(time.time() -  start,\n",
    "                (y_hat.argmax(axis=1) == y).sum().item() / y.shape[0], l.item()))\n",
    "        test_acc = evaluate_accuracy(test_iter, net, dev)\n",
    "        print('epoch %d, loss %.4f, train acc %.3f, test acc %.3f, '\n",
    "              'time %.1f sec'\n",
    "              % (epoch + 1, train_l_sum / n, train_acc_sum / n, test_acc,\n",
    "                 time.time() - start))"
   ]
  },
  {
   "cell_type": "code",
   "execution_count": 41,
   "metadata": {},
   "outputs": [
    {
     "name": "stdout",
     "output_type": "stream",
     "text": [
      "Step. time since epoch: 1.878. Train acc: 0.469. Train Loss: 26.402\n",
      "Step. time since epoch: 1.979. Train acc: 0.656. Train Loss: 20.703\n",
      "Step. time since epoch: 2.119. Train acc: 0.500. Train Loss: 27.007\n",
      "Step. time since epoch: 2.192. Train acc: 0.562. Train Loss: 22.872\n",
      "Step. time since epoch: 2.223. Train acc: 0.531. Train Loss: 22.296\n",
      "Step. time since epoch: 2.254. Train acc: 0.688. Train Loss: 19.943\n",
      "Step. time since epoch: 2.285. Train acc: 0.594. Train Loss: 21.159\n",
      "Step. time since epoch: 2.305. Train acc: 0.600. Train Loss: 12.021\n",
      "epoch 1, loss 0.7066, train acc 0.574, test acc 0.693, time 5.2 sec\n",
      "Step. time since epoch: 2.026. Train acc: 0.719. Train Loss: 16.292\n",
      "Step. time since epoch: 2.144. Train acc: 0.688. Train Loss: 18.135\n",
      "Step. time since epoch: 2.258. Train acc: 0.719. Train Loss: 17.830\n",
      "Step. time since epoch: 2.351. Train acc: 0.844. Train Loss: 14.947\n",
      "Step. time since epoch: 2.383. Train acc: 0.812. Train Loss: 15.306\n",
      "Step. time since epoch: 2.412. Train acc: 0.812. Train Loss: 15.249\n",
      "Step. time since epoch: 2.441. Train acc: 0.906. Train Loss: 11.760\n",
      "Step. time since epoch: 2.463. Train acc: 0.850. Train Loss: 9.259\n",
      "epoch 2, loss 0.4868, train acc 0.791, test acc 0.797, time 5.4 sec\n",
      "Step. time since epoch: 1.954. Train acc: 0.906. Train Loss: 11.598\n",
      "Step. time since epoch: 2.111. Train acc: 0.844. Train Loss: 13.196\n",
      "Step. time since epoch: 2.192. Train acc: 0.938. Train Loss: 9.508\n",
      "Step. time since epoch: 2.314. Train acc: 0.906. Train Loss: 11.621\n",
      "Step. time since epoch: 2.344. Train acc: 0.812. Train Loss: 14.023\n",
      "Step. time since epoch: 2.373. Train acc: 0.969. Train Loss: 9.911\n",
      "Step. time since epoch: 2.403. Train acc: 0.875. Train Loss: 9.924\n",
      "Step. time since epoch: 2.423. Train acc: 0.950. Train Loss: 5.011\n",
      "epoch 3, loss 0.3475, train acc 0.898, test acc 0.889, time 5.3 sec\n",
      "Step. time since epoch: 1.947. Train acc: 0.906. Train Loss: 8.978\n",
      "Step. time since epoch: 2.121. Train acc: 0.875. Train Loss: 10.571\n",
      "Step. time since epoch: 2.231. Train acc: 0.969. Train Loss: 8.117\n",
      "Step. time since epoch: 2.329. Train acc: 0.969. Train Loss: 6.644\n",
      "Step. time since epoch: 2.360. Train acc: 0.906. Train Loss: 8.233\n",
      "Step. time since epoch: 2.388. Train acc: 0.938. Train Loss: 8.290\n",
      "Step. time since epoch: 2.417. Train acc: 0.969. Train Loss: 7.370\n",
      "Step. time since epoch: 2.440. Train acc: 0.950. Train Loss: 4.645\n",
      "epoch 4, loss 0.2576, train acc 0.934, test acc 0.915, time 5.3 sec\n",
      "Step. time since epoch: 1.960. Train acc: 0.969. Train Loss: 6.391\n",
      "Step. time since epoch: 2.188. Train acc: 0.938. Train Loss: 7.392\n",
      "Step. time since epoch: 2.221. Train acc: 0.938. Train Loss: 7.868\n",
      "Step. time since epoch: 2.352. Train acc: 0.938. Train Loss: 7.074\n",
      "Step. time since epoch: 2.381. Train acc: 0.969. Train Loss: 6.062\n",
      "Step. time since epoch: 2.413. Train acc: 0.969. Train Loss: 7.140\n",
      "Step. time since epoch: 2.441. Train acc: 0.938. Train Loss: 6.461\n",
      "Step. time since epoch: 2.461. Train acc: 0.950. Train Loss: 3.095\n",
      "epoch 5, loss 0.2110, train acc 0.951, test acc 0.935, time 5.3 sec\n",
      "Step. time since epoch: 1.932. Train acc: 0.969. Train Loss: 5.526\n",
      "Step. time since epoch: 2.080. Train acc: 0.969. Train Loss: 5.023\n",
      "Step. time since epoch: 2.178. Train acc: 0.875. Train Loss: 8.191\n",
      "Step. time since epoch: 2.318. Train acc: 0.938. Train Loss: 6.183\n",
      "Step. time since epoch: 2.347. Train acc: 0.938. Train Loss: 5.759\n",
      "Step. time since epoch: 2.376. Train acc: 0.969. Train Loss: 6.694\n",
      "Step. time since epoch: 2.408. Train acc: 1.000. Train Loss: 3.301\n",
      "Step. time since epoch: 2.437. Train acc: 1.000. Train Loss: 3.384\n",
      "epoch 6, loss 0.1806, train acc 0.955, test acc 0.935, time 5.3 sec\n",
      "Step. time since epoch: 2.013. Train acc: 0.969. Train Loss: 4.755\n",
      "Step. time since epoch: 2.050. Train acc: 0.906. Train Loss: 6.936\n",
      "Step. time since epoch: 2.167. Train acc: 0.938. Train Loss: 5.512\n",
      "Step. time since epoch: 2.360. Train acc: 0.938. Train Loss: 6.094\n",
      "Step. time since epoch: 2.388. Train acc: 0.969. Train Loss: 5.854\n",
      "Step. time since epoch: 2.417. Train acc: 1.000. Train Loss: 3.621\n",
      "Step. time since epoch: 2.445. Train acc: 1.000. Train Loss: 3.631\n",
      "Step. time since epoch: 2.465. Train acc: 1.000. Train Loss: 2.392\n",
      "epoch 7, loss 0.1590, train acc 0.963, test acc 0.935, time 5.3 sec\n",
      "Step. time since epoch: 1.947. Train acc: 0.969. Train Loss: 4.998\n",
      "Step. time since epoch: 2.096. Train acc: 0.969. Train Loss: 3.455\n",
      "Step. time since epoch: 2.192. Train acc: 0.969. Train Loss: 5.261\n",
      "Step. time since epoch: 2.385. Train acc: 0.938. Train Loss: 6.502\n",
      "Step. time since epoch: 2.418. Train acc: 1.000. Train Loss: 4.531\n",
      "Step. time since epoch: 2.447. Train acc: 1.000. Train Loss: 2.565\n",
      "Step. time since epoch: 2.476. Train acc: 1.000. Train Loss: 4.066\n",
      "Step. time since epoch: 2.495. Train acc: 0.950. Train Loss: 3.673\n",
      "epoch 8, loss 0.1436, train acc 0.975, test acc 0.948, time 5.3 sec\n",
      "Step. time since epoch: 1.965. Train acc: 0.969. Train Loss: 3.915\n",
      "Step. time since epoch: 2.099. Train acc: 0.969. Train Loss: 5.375\n",
      "Step. time since epoch: 2.198. Train acc: 0.938. Train Loss: 3.405\n",
      "Step. time since epoch: 2.367. Train acc: 0.969. Train Loss: 4.878\n",
      "Step. time since epoch: 2.396. Train acc: 1.000. Train Loss: 3.478\n",
      "Step. time since epoch: 2.428. Train acc: 1.000. Train Loss: 4.604\n",
      "Step. time since epoch: 2.458. Train acc: 1.000. Train Loss: 3.321\n",
      "Step. time since epoch: 2.477. Train acc: 0.950. Train Loss: 3.057\n",
      "epoch 9, loss 0.1313, train acc 0.975, test acc 0.948, time 5.3 sec\n",
      "Step. time since epoch: 1.945. Train acc: 1.000. Train Loss: 3.736\n",
      "Step. time since epoch: 2.119. Train acc: 1.000. Train Loss: 3.925\n",
      "Step. time since epoch: 2.170. Train acc: 0.969. Train Loss: 3.842\n",
      "Step. time since epoch: 2.336. Train acc: 1.000. Train Loss: 3.270\n",
      "Step. time since epoch: 2.373. Train acc: 0.969. Train Loss: 4.450\n",
      "Step. time since epoch: 2.404. Train acc: 0.969. Train Loss: 4.670\n",
      "Step. time since epoch: 2.432. Train acc: 0.969. Train Loss: 3.151\n",
      "Step. time since epoch: 2.452. Train acc: 0.900. Train Loss: 2.660\n",
      "epoch 10, loss 0.1217, train acc 0.975, test acc 0.954, time 5.3 sec\n"
     ]
    }
   ],
   "source": [
    "lr, num_epochs = 0.001, 10\n",
    "trainer = torch.optim.Adam(model.parameters(), lr=lr)\n",
    "train(model, dataloaders_dict['train'], dataloaders_dict['val'], trainer, num_epochs, dev)"
   ]
  },
  {
   "cell_type": "code",
   "execution_count": 42,
   "metadata": {},
   "outputs": [],
   "source": [
    "# release CUDA\n",
    "model.eval()\n",
    "torch.cuda.empty_cache()"
   ]
  },
  {
   "cell_type": "markdown",
   "metadata": {},
   "source": [
    "# VGG 16 pretrained"
   ]
  },
  {
   "cell_type": "code",
   "execution_count": 43,
   "metadata": {},
   "outputs": [],
   "source": [
    "model = models.vgg16(pretrained=True)"
   ]
  },
  {
   "cell_type": "markdown",
   "metadata": {},
   "source": [
    "train model"
   ]
  },
  {
   "cell_type": "code",
   "execution_count": 44,
   "metadata": {},
   "outputs": [],
   "source": [
    "model = model.to(dev)"
   ]
  },
  {
   "cell_type": "code",
   "execution_count": 45,
   "metadata": {
    "ExecuteTime": {
     "end_time": "2019-11-18T17:23:47.319979Z",
     "start_time": "2019-11-18T17:23:47.316747Z"
    }
   },
   "outputs": [],
   "source": [
    "## Убираем требование градиента:\n",
    "for param in model.parameters():\n",
    "    param.requires_grad = False"
   ]
  },
  {
   "cell_type": "code",
   "execution_count": 46,
   "metadata": {
    "ExecuteTime": {
     "end_time": "2019-11-18T17:24:04.770976Z",
     "start_time": "2019-11-18T17:24:04.766810Z"
    }
   },
   "outputs": [
    {
     "data": {
      "text/plain": [
       "Sequential(\n",
       "  (0): Linear(in_features=25088, out_features=4096, bias=True)\n",
       "  (1): ReLU(inplace=True)\n",
       "  (2): Dropout(p=0.5, inplace=False)\n",
       "  (3): Linear(in_features=4096, out_features=4096, bias=True)\n",
       "  (4): ReLU(inplace=True)\n",
       "  (5): Dropout(p=0.5, inplace=False)\n",
       "  (6): Linear(in_features=4096, out_features=1000, bias=True)\n",
       ")"
      ]
     },
     "execution_count": 46,
     "metadata": {},
     "output_type": "execute_result"
    }
   ],
   "source": [
    "model.classifier"
   ]
  },
  {
   "cell_type": "code",
   "execution_count": 47,
   "metadata": {
    "ExecuteTime": {
     "end_time": "2019-11-18T17:24:12.305790Z",
     "start_time": "2019-11-18T17:24:12.302517Z"
    }
   },
   "outputs": [],
   "source": [
    "model.classifier[6] = nn.Linear(in_features=4096, out_features=2).to(dev)"
   ]
  },
  {
   "cell_type": "code",
   "execution_count": 48,
   "metadata": {
    "ExecuteTime": {
     "end_time": "2019-11-18T17:24:42.228326Z",
     "start_time": "2019-11-18T17:24:42.222643Z"
    }
   },
   "outputs": [
    {
     "name": "stdout",
     "output_type": "stream",
     "text": [
      "Params to learn:\n",
      "\t classifier.6.weight\n",
      "\t classifier.6.bias\n"
     ]
    }
   ],
   "source": [
    "print(\"Params to learn:\")\n",
    "params_to_update = []\n",
    "for name,param in model.named_parameters():\n",
    "    if param.requires_grad == True:\n",
    "        params_to_update.append(param)\n",
    "        print(\"\\t\",name)"
   ]
  },
  {
   "cell_type": "code",
   "execution_count": 49,
   "metadata": {},
   "outputs": [],
   "source": [
    "def evaluate_accuracy(data_iter, net, dev):\n",
    "    acc_sum, n = torch.Tensor([0]).to(dev), 0\n",
    "    net.eval()\n",
    "    for X, y in data_iter:\n",
    "        X, y = X.to(dev), y.to(dev)\n",
    "        acc_sum += (net(X).argmax(axis=1) == y).sum()\n",
    "        n += y.shape[0]\n",
    "    return acc_sum.item() / n"
   ]
  },
  {
   "cell_type": "code",
   "execution_count": 50,
   "metadata": {},
   "outputs": [],
   "source": [
    "def train(net, train_iter, test_iter, trainer, num_epochs, dev):\n",
    "    loss = nn.CrossEntropyLoss(reduction='sum')\n",
    "    net.train()\n",
    "    for epoch in range(num_epochs):\n",
    "        train_l_sum, train_acc_sum, n, start = 0.0, 0.0, 0, time.time()\n",
    "        for X, y in train_iter:\n",
    "            trainer.zero_grad()\n",
    "            X, y = X.to(dev), y.to(dev)\n",
    "            y_hat = net(X)\n",
    "            l = loss(y_hat, y)\n",
    "            l.backward()\n",
    "            trainer.step()\n",
    "            train_l_sum += l.item()\n",
    "            train_acc_sum += (y_hat.argmax(axis=1) == y).sum().item()\n",
    "            n += y.shape[0]\n",
    "            print(\"Step. time since epoch: {:.3f}. Train acc: {:.3f}. Train Loss: {:.3f}\".format(time.time() -  start,\n",
    "                (y_hat.argmax(axis=1) == y).sum().item() / y.shape[0], l.item()))\n",
    "        test_acc = evaluate_accuracy(test_iter, net, dev)\n",
    "        print('epoch %d, loss %.4f, train acc %.3f, test acc %.3f, '\n",
    "              'time %.1f sec'\n",
    "              % (epoch + 1, train_l_sum / n, train_acc_sum / n, test_acc,\n",
    "                 time.time() - start))"
   ]
  },
  {
   "cell_type": "code",
   "execution_count": 51,
   "metadata": {},
   "outputs": [
    {
     "name": "stdout",
     "output_type": "stream",
     "text": [
      "Step. time since epoch: 2.207. Train acc: 0.469. Train Loss: 25.264\n",
      "Step. time since epoch: 2.290. Train acc: 0.750. Train Loss: 17.225\n",
      "Step. time since epoch: 2.395. Train acc: 0.938. Train Loss: 9.162\n",
      "Step. time since epoch: 2.533. Train acc: 0.844. Train Loss: 9.913\n",
      "Step. time since epoch: 2.602. Train acc: 0.906. Train Loss: 7.609\n",
      "Step. time since epoch: 2.672. Train acc: 0.906. Train Loss: 6.628\n",
      "Step. time since epoch: 2.741. Train acc: 1.000. Train Loss: 4.093\n",
      "Step. time since epoch: 2.794. Train acc: 1.000. Train Loss: 3.739\n",
      "epoch 1, loss 0.3428, train acc 0.844, test acc 0.961, time 6.0 sec\n",
      "Step. time since epoch: 2.073. Train acc: 0.969. Train Loss: 5.691\n",
      "Step. time since epoch: 2.214. Train acc: 1.000. Train Loss: 2.559\n",
      "Step. time since epoch: 2.336. Train acc: 1.000. Train Loss: 1.660\n",
      "Step. time since epoch: 2.489. Train acc: 1.000. Train Loss: 2.503\n",
      "Step. time since epoch: 2.563. Train acc: 0.938. Train Loss: 3.082\n",
      "Step. time since epoch: 2.631. Train acc: 0.969. Train Loss: 1.435\n",
      "Step. time since epoch: 2.699. Train acc: 0.969. Train Loss: 5.286\n",
      "Step. time since epoch: 2.753. Train acc: 1.000. Train Loss: 1.250\n",
      "epoch 2, loss 0.0962, train acc 0.980, test acc 0.954, time 5.8 sec\n",
      "Step. time since epoch: 2.217. Train acc: 0.969. Train Loss: 2.311\n",
      "Step. time since epoch: 2.389. Train acc: 1.000. Train Loss: 1.704\n",
      "Step. time since epoch: 2.474. Train acc: 1.000. Train Loss: 1.729\n",
      "Step. time since epoch: 2.608. Train acc: 0.969. Train Loss: 2.980\n",
      "Step. time since epoch: 2.680. Train acc: 0.969. Train Loss: 2.291\n",
      "Step. time since epoch: 2.748. Train acc: 1.000. Train Loss: 1.011\n",
      "Step. time since epoch: 2.816. Train acc: 0.969. Train Loss: 2.347\n",
      "Step. time since epoch: 2.870. Train acc: 1.000. Train Loss: 0.422\n",
      "epoch 3, loss 0.0606, train acc 0.984, test acc 0.967, time 6.0 sec\n",
      "Step. time since epoch: 2.062. Train acc: 0.969. Train Loss: 2.264\n",
      "Step. time since epoch: 2.244. Train acc: 1.000. Train Loss: 0.719\n",
      "Step. time since epoch: 2.345. Train acc: 1.000. Train Loss: 0.764\n",
      "Step. time since epoch: 2.545. Train acc: 1.000. Train Loss: 0.893\n",
      "Step. time since epoch: 2.618. Train acc: 1.000. Train Loss: 0.959\n",
      "Step. time since epoch: 2.687. Train acc: 1.000. Train Loss: 2.060\n",
      "Step. time since epoch: 2.754. Train acc: 1.000. Train Loss: 1.738\n",
      "Step. time since epoch: 2.810. Train acc: 1.000. Train Loss: 0.254\n",
      "epoch 4, loss 0.0396, train acc 0.996, test acc 0.974, time 5.9 sec\n",
      "Step. time since epoch: 1.976. Train acc: 1.000. Train Loss: 0.571\n",
      "Step. time since epoch: 2.109. Train acc: 0.969. Train Loss: 1.197\n",
      "Step. time since epoch: 2.217. Train acc: 1.000. Train Loss: 1.369\n",
      "Step. time since epoch: 2.353. Train acc: 1.000. Train Loss: 0.981\n",
      "Step. time since epoch: 2.422. Train acc: 1.000. Train Loss: 1.257\n",
      "Step. time since epoch: 2.493. Train acc: 1.000. Train Loss: 0.904\n",
      "Step. time since epoch: 2.562. Train acc: 1.000. Train Loss: 0.600\n",
      "Step. time since epoch: 2.617. Train acc: 1.000. Train Loss: 0.199\n",
      "epoch 5, loss 0.0290, train acc 0.996, test acc 0.974, time 5.7 sec\n",
      "Step. time since epoch: 2.086. Train acc: 1.000. Train Loss: 0.793\n",
      "Step. time since epoch: 2.211. Train acc: 1.000. Train Loss: 0.203\n",
      "Step. time since epoch: 2.289. Train acc: 1.000. Train Loss: 0.548\n",
      "Step. time since epoch: 2.462. Train acc: 1.000. Train Loss: 0.945\n",
      "Step. time since epoch: 2.535. Train acc: 1.000. Train Loss: 1.060\n",
      "Step. time since epoch: 2.604. Train acc: 1.000. Train Loss: 0.522\n",
      "Step. time since epoch: 2.672. Train acc: 1.000. Train Loss: 0.928\n",
      "Step. time since epoch: 2.725. Train acc: 1.000. Train Loss: 0.313\n",
      "epoch 6, loss 0.0218, train acc 1.000, test acc 0.980, time 5.9 sec\n",
      "Step. time since epoch: 2.052. Train acc: 1.000. Train Loss: 0.281\n",
      "Step. time since epoch: 2.134. Train acc: 1.000. Train Loss: 0.516\n",
      "Step. time since epoch: 2.278. Train acc: 1.000. Train Loss: 0.689\n",
      "Step. time since epoch: 2.421. Train acc: 1.000. Train Loss: 0.433\n",
      "Step. time since epoch: 2.490. Train acc: 1.000. Train Loss: 0.831\n",
      "Step. time since epoch: 2.560. Train acc: 1.000. Train Loss: 0.522\n",
      "Step. time since epoch: 2.628. Train acc: 1.000. Train Loss: 0.335\n",
      "Step. time since epoch: 2.681. Train acc: 1.000. Train Loss: 0.716\n",
      "epoch 7, loss 0.0177, train acc 1.000, test acc 0.980, time 5.7 sec\n",
      "Step. time since epoch: 1.934. Train acc: 1.000. Train Loss: 0.452\n",
      "Step. time since epoch: 2.108. Train acc: 1.000. Train Loss: 0.512\n",
      "Step. time since epoch: 2.207. Train acc: 1.000. Train Loss: 0.412\n",
      "Step. time since epoch: 2.383. Train acc: 1.000. Train Loss: 0.795\n",
      "Step. time since epoch: 2.456. Train acc: 1.000. Train Loss: 0.209\n",
      "Step. time since epoch: 2.524. Train acc: 1.000. Train Loss: 0.557\n",
      "Step. time since epoch: 2.593. Train acc: 1.000. Train Loss: 0.324\n",
      "Step. time since epoch: 2.648. Train acc: 1.000. Train Loss: 0.409\n",
      "epoch 8, loss 0.0150, train acc 1.000, test acc 0.980, time 5.6 sec\n",
      "Step. time since epoch: 1.946. Train acc: 1.000. Train Loss: 0.194\n",
      "Step. time since epoch: 2.080. Train acc: 1.000. Train Loss: 0.528\n",
      "Step. time since epoch: 2.174. Train acc: 1.000. Train Loss: 0.535\n",
      "Step. time since epoch: 2.334. Train acc: 1.000. Train Loss: 0.361\n",
      "Step. time since epoch: 2.403. Train acc: 1.000. Train Loss: 0.359\n",
      "Step. time since epoch: 2.472. Train acc: 1.000. Train Loss: 0.591\n",
      "Step. time since epoch: 2.540. Train acc: 1.000. Train Loss: 0.417\n",
      "Step. time since epoch: 2.594. Train acc: 1.000. Train Loss: 0.162\n",
      "epoch 9, loss 0.0129, train acc 1.000, test acc 0.980, time 5.6 sec\n",
      "Step. time since epoch: 2.144. Train acc: 1.000. Train Loss: 0.458\n",
      "Step. time since epoch: 2.287. Train acc: 1.000. Train Loss: 0.583\n",
      "Step. time since epoch: 2.420. Train acc: 1.000. Train Loss: 0.271\n",
      "Step. time since epoch: 2.527. Train acc: 1.000. Train Loss: 0.254\n",
      "Step. time since epoch: 2.599. Train acc: 1.000. Train Loss: 0.408\n",
      "Step. time since epoch: 2.668. Train acc: 1.000. Train Loss: 0.310\n",
      "Step. time since epoch: 2.739. Train acc: 1.000. Train Loss: 0.366\n",
      "Step. time since epoch: 2.792. Train acc: 1.000. Train Loss: 0.140\n",
      "epoch 10, loss 0.0114, train acc 1.000, test acc 0.980, time 5.8 sec\n"
     ]
    }
   ],
   "source": [
    "lr, num_epochs = 0.001, 10\n",
    "trainer = torch.optim.Adam(model.parameters(), lr=lr)\n",
    "train(model, dataloaders_dict['train'], dataloaders_dict['val'], trainer, num_epochs, dev)"
   ]
  },
  {
   "cell_type": "markdown",
   "metadata": {},
   "source": [
    "# 3.Добавьте аугментацию данных к пункту 2  \n",
    "  \n",
    "(Обучите на нем модели ResNet 18 и VGG 16 с использованием FineTuning (5-10 эпох))\n",
    "  \n"
   ]
  },
  {
   "cell_type": "code",
   "execution_count": 52,
   "metadata": {},
   "outputs": [
    {
     "name": "stdout",
     "output_type": "stream",
     "text": [
      "Initializing Datasets and Dataloaders...\n"
     ]
    }
   ],
   "source": [
    "# Data augmentation and normalization for training\n",
    "# Just normalization for validation\n",
    "data_transforms = {\n",
    "    'train': tv.transforms.Compose([\n",
    "        tv.transforms.RandomResizedCrop(224),\n",
    "        tv.transforms.RandomHorizontalFlip(),\n",
    "        tv.transforms.RandomVerticalFlip(),\n",
    "        tv.transforms.ToTensor(),\n",
    "        tv.transforms.Normalize([0.485, 0.456, 0.406], [0.229, 0.224, 0.225])\n",
    "    ]),\n",
    "    'val': tv.transforms.Compose([\n",
    "        tv.transforms.Resize(256),\n",
    "        tv.transforms.CenterCrop(224),\n",
    "        tv.transforms.ToTensor(),\n",
    "        tv.transforms.Normalize([0.485, 0.456, 0.406], [0.229, 0.224, 0.225])\n",
    "    ]),\n",
    "}\n",
    "\n",
    "print(\"Initializing Datasets and Dataloaders...\")\n",
    "\n",
    "# Create training and validation datasets\n",
    "image_datasets = {x: tv.datasets.ImageFolder(os.path.join(data_dir, x), data_transforms[x]) for x in ['train', 'val']}\n",
    "# Create training and validation dataloaders\n",
    "dataloaders_dict = {x: torch.utils.data.DataLoader(image_datasets[x], batch_size=BATCH_SIZE, shuffle=True, num_workers=4) for x in ['train', 'val']}\n",
    "\n",
    "# Detect if we have a GPU available\n",
    "device = torch.device(\"cuda:0\" if torch.cuda.is_available() else \"cpu\")"
   ]
  },
  {
   "cell_type": "markdown",
   "metadata": {},
   "source": [
    "# ResNet 18 pretrained + aug"
   ]
  },
  {
   "cell_type": "code",
   "execution_count": 53,
   "metadata": {},
   "outputs": [],
   "source": [
    "model = models.resnet18(pretrained=True)"
   ]
  },
  {
   "cell_type": "markdown",
   "metadata": {},
   "source": [
    "train model"
   ]
  },
  {
   "cell_type": "code",
   "execution_count": 54,
   "metadata": {},
   "outputs": [],
   "source": [
    "model = model.to(dev)"
   ]
  },
  {
   "cell_type": "code",
   "execution_count": 55,
   "metadata": {
    "ExecuteTime": {
     "end_time": "2019-11-18T17:23:47.319979Z",
     "start_time": "2019-11-18T17:23:47.316747Z"
    }
   },
   "outputs": [],
   "source": [
    "## Убираем требование градиента:\n",
    "for param in model.parameters():\n",
    "    param.requires_grad = False"
   ]
  },
  {
   "cell_type": "code",
   "execution_count": 56,
   "metadata": {
    "ExecuteTime": {
     "end_time": "2019-11-18T17:24:04.770976Z",
     "start_time": "2019-11-18T17:24:04.766810Z"
    }
   },
   "outputs": [
    {
     "data": {
      "text/plain": [
       "Linear(in_features=512, out_features=1000, bias=True)"
      ]
     },
     "execution_count": 56,
     "metadata": {},
     "output_type": "execute_result"
    }
   ],
   "source": [
    "model.fc"
   ]
  },
  {
   "cell_type": "code",
   "execution_count": 57,
   "metadata": {
    "ExecuteTime": {
     "end_time": "2019-11-18T17:24:12.305790Z",
     "start_time": "2019-11-18T17:24:12.302517Z"
    }
   },
   "outputs": [],
   "source": [
    "model.fc = nn.Linear(in_features=512, out_features=2).to(dev)"
   ]
  },
  {
   "cell_type": "code",
   "execution_count": 58,
   "metadata": {
    "ExecuteTime": {
     "end_time": "2019-11-18T17:24:42.228326Z",
     "start_time": "2019-11-18T17:24:42.222643Z"
    }
   },
   "outputs": [
    {
     "name": "stdout",
     "output_type": "stream",
     "text": [
      "Params to learn:\n",
      "\t fc.weight\n",
      "\t fc.bias\n"
     ]
    }
   ],
   "source": [
    "print(\"Params to learn:\")\n",
    "params_to_update = []\n",
    "for name,param in model.named_parameters():\n",
    "    if param.requires_grad == True:\n",
    "        params_to_update.append(param)\n",
    "        print(\"\\t\",name)"
   ]
  },
  {
   "cell_type": "code",
   "execution_count": 59,
   "metadata": {},
   "outputs": [],
   "source": [
    "def evaluate_accuracy(data_iter, net, dev):\n",
    "    acc_sum, n = torch.Tensor([0]).to(dev), 0\n",
    "    net.eval()\n",
    "    for X, y in data_iter:\n",
    "        X, y = X.to(dev), y.to(dev)\n",
    "        acc_sum += (net(X).argmax(axis=1) == y).sum()\n",
    "        n += y.shape[0]\n",
    "    return acc_sum.item() / n"
   ]
  },
  {
   "cell_type": "code",
   "execution_count": 60,
   "metadata": {},
   "outputs": [],
   "source": [
    "def train(net, train_iter, test_iter, trainer, num_epochs, dev):\n",
    "    loss = nn.CrossEntropyLoss(reduction='sum')\n",
    "    net.train()\n",
    "    for epoch in range(num_epochs):\n",
    "        train_l_sum, train_acc_sum, n, start = 0.0, 0.0, 0, time.time()\n",
    "        for X, y in train_iter:\n",
    "            trainer.zero_grad()\n",
    "            X, y = X.to(dev), y.to(dev)\n",
    "            y_hat = net(X)\n",
    "            l = loss(y_hat, y)\n",
    "            l.backward()\n",
    "            trainer.step()\n",
    "            train_l_sum += l.item()\n",
    "            train_acc_sum += (y_hat.argmax(axis=1) == y).sum().item()\n",
    "            n += y.shape[0]\n",
    "            print(\"Step. time since epoch: {:.3f}. Train acc: {:.3f}. Train Loss: {:.3f}\".format(time.time() -  start,\n",
    "                (y_hat.argmax(axis=1) == y).sum().item() / y.shape[0], l.item()))\n",
    "        test_acc = evaluate_accuracy(test_iter, net, dev)\n",
    "        print('epoch %d, loss %.4f, train acc %.3f, test acc %.3f, '\n",
    "              'time %.1f sec'\n",
    "              % (epoch + 1, train_l_sum / n, train_acc_sum / n, test_acc,\n",
    "                 time.time() - start))"
   ]
  },
  {
   "cell_type": "code",
   "execution_count": 61,
   "metadata": {},
   "outputs": [
    {
     "name": "stdout",
     "output_type": "stream",
     "text": [
      "Step. time since epoch: 1.970. Train acc: 0.344. Train Loss: 39.011\n",
      "Step. time since epoch: 2.070. Train acc: 0.469. Train Loss: 25.538\n",
      "Step. time since epoch: 2.196. Train acc: 0.500. Train Loss: 22.707\n",
      "Step. time since epoch: 2.335. Train acc: 0.344. Train Loss: 28.591\n",
      "Step. time since epoch: 2.367. Train acc: 0.531. Train Loss: 26.591\n",
      "Step. time since epoch: 2.396. Train acc: 0.438. Train Loss: 27.967\n",
      "Step. time since epoch: 2.433. Train acc: 0.375. Train Loss: 25.145\n",
      "Step. time since epoch: 2.454. Train acc: 0.400. Train Loss: 15.143\n",
      "epoch 1, loss 0.8635, train acc 0.426, test acc 0.693, time 5.4 sec\n",
      "Step. time since epoch: 2.001. Train acc: 0.500. Train Loss: 22.566\n",
      "Step. time since epoch: 2.097. Train acc: 0.625. Train Loss: 21.733\n",
      "Step. time since epoch: 2.316. Train acc: 0.688. Train Loss: 17.709\n",
      "Step. time since epoch: 2.442. Train acc: 0.500. Train Loss: 24.128\n",
      "Step. time since epoch: 2.472. Train acc: 0.594. Train Loss: 23.672\n",
      "Step. time since epoch: 2.501. Train acc: 0.625. Train Loss: 22.642\n",
      "Step. time since epoch: 2.532. Train acc: 0.656. Train Loss: 18.735\n",
      "Step. time since epoch: 2.552. Train acc: 0.900. Train Loss: 8.346\n",
      "epoch 2, loss 0.6538, train acc 0.623, test acc 0.817, time 5.5 sec\n",
      "Step. time since epoch: 1.944. Train acc: 0.750. Train Loss: 17.754\n",
      "Step. time since epoch: 2.135. Train acc: 0.750. Train Loss: 15.574\n",
      "Step. time since epoch: 2.176. Train acc: 0.750. Train Loss: 16.517\n",
      "Step. time since epoch: 2.400. Train acc: 0.875. Train Loss: 16.809\n",
      "Step. time since epoch: 2.429. Train acc: 0.750. Train Loss: 16.204\n",
      "Step. time since epoch: 2.459. Train acc: 0.812. Train Loss: 14.464\n",
      "Step. time since epoch: 2.490. Train acc: 0.938. Train Loss: 11.917\n",
      "Step. time since epoch: 2.513. Train acc: 0.800. Train Loss: 9.327\n",
      "epoch 3, loss 0.4859, train acc 0.803, test acc 0.889, time 5.5 sec\n",
      "Step. time since epoch: 2.087. Train acc: 0.844. Train Loss: 14.382\n",
      "Step. time since epoch: 2.149. Train acc: 0.812. Train Loss: 12.862\n",
      "Step. time since epoch: 2.321. Train acc: 0.844. Train Loss: 12.040\n",
      "Step. time since epoch: 2.467. Train acc: 0.938. Train Loss: 10.109\n",
      "Step. time since epoch: 2.496. Train acc: 0.875. Train Loss: 12.739\n",
      "Step. time since epoch: 2.528. Train acc: 0.906. Train Loss: 13.638\n",
      "Step. time since epoch: 2.558. Train acc: 0.844. Train Loss: 11.171\n",
      "Step. time since epoch: 2.594. Train acc: 0.800. Train Loss: 7.996\n",
      "epoch 4, loss 0.3891, train acc 0.861, test acc 0.895, time 5.6 sec\n",
      "Step. time since epoch: 1.959. Train acc: 0.906. Train Loss: 10.234\n",
      "Step. time since epoch: 2.071. Train acc: 0.844. Train Loss: 11.474\n",
      "Step. time since epoch: 2.196. Train acc: 0.938. Train Loss: 9.363\n",
      "Step. time since epoch: 2.330. Train acc: 0.844. Train Loss: 10.348\n",
      "Step. time since epoch: 2.359. Train acc: 0.938. Train Loss: 8.615\n",
      "Step. time since epoch: 2.388. Train acc: 0.875. Train Loss: 11.802\n",
      "Step. time since epoch: 2.442. Train acc: 0.969. Train Loss: 9.146\n",
      "Step. time since epoch: 2.462. Train acc: 0.900. Train Loss: 6.162\n",
      "epoch 5, loss 0.3162, train acc 0.902, test acc 0.941, time 5.4 sec\n",
      "Step. time since epoch: 1.965. Train acc: 0.938. Train Loss: 8.216\n",
      "Step. time since epoch: 2.190. Train acc: 0.906. Train Loss: 9.827\n",
      "Step. time since epoch: 2.221. Train acc: 0.906. Train Loss: 8.766\n",
      "Step. time since epoch: 2.338. Train acc: 0.969. Train Loss: 7.434\n",
      "Step. time since epoch: 2.370. Train acc: 0.938. Train Loss: 8.018\n",
      "Step. time since epoch: 2.405. Train acc: 0.938. Train Loss: 7.159\n",
      "Step. time since epoch: 2.434. Train acc: 1.000. Train Loss: 7.609\n",
      "Step. time since epoch: 2.454. Train acc: 0.700. Train Loss: 9.042\n",
      "epoch 6, loss 0.2708, train acc 0.922, test acc 0.948, time 5.4 sec\n",
      "Step. time since epoch: 1.955. Train acc: 0.906. Train Loss: 9.208\n",
      "Step. time since epoch: 2.079. Train acc: 1.000. Train Loss: 6.627\n",
      "Step. time since epoch: 2.166. Train acc: 0.969. Train Loss: 5.746\n",
      "Step. time since epoch: 2.306. Train acc: 0.906. Train Loss: 8.827\n",
      "Step. time since epoch: 2.335. Train acc: 0.875. Train Loss: 9.146\n",
      "Step. time since epoch: 2.368. Train acc: 0.969. Train Loss: 6.453\n",
      "Step. time since epoch: 2.398. Train acc: 0.875. Train Loss: 9.868\n",
      "Step. time since epoch: 2.426. Train acc: 0.700. Train Loss: 9.705\n",
      "epoch 7, loss 0.2688, train acc 0.910, test acc 0.954, time 5.3 sec\n",
      "Step. time since epoch: 2.054. Train acc: 0.969. Train Loss: 7.186\n",
      "Step. time since epoch: 2.244. Train acc: 0.906. Train Loss: 6.917\n",
      "Step. time since epoch: 2.405. Train acc: 0.906. Train Loss: 6.663\n",
      "Step. time since epoch: 2.577. Train acc: 0.938. Train Loss: 6.168\n",
      "Step. time since epoch: 2.606. Train acc: 0.938. Train Loss: 7.666\n",
      "Step. time since epoch: 2.635. Train acc: 1.000. Train Loss: 6.639\n",
      "Step. time since epoch: 2.665. Train acc: 0.844. Train Loss: 9.095\n",
      "Step. time since epoch: 2.685. Train acc: 0.800. Train Loss: 5.493\n",
      "epoch 8, loss 0.2288, train acc 0.918, test acc 0.948, time 5.5 sec\n",
      "Step. time since epoch: 1.885. Train acc: 0.969. Train Loss: 6.246\n",
      "Step. time since epoch: 2.035. Train acc: 0.938. Train Loss: 6.698\n",
      "Step. time since epoch: 2.165. Train acc: 0.938. Train Loss: 4.984\n",
      "Step. time since epoch: 2.313. Train acc: 0.938. Train Loss: 8.986\n",
      "Step. time since epoch: 2.344. Train acc: 0.844. Train Loss: 9.366\n",
      "Step. time since epoch: 2.376. Train acc: 0.906. Train Loss: 7.986\n",
      "Step. time since epoch: 2.406. Train acc: 0.969. Train Loss: 8.241\n",
      "Step. time since epoch: 2.437. Train acc: 0.950. Train Loss: 4.500\n",
      "epoch 9, loss 0.2336, train acc 0.930, test acc 0.954, time 5.5 sec\n",
      "Step. time since epoch: 1.977. Train acc: 0.938. Train Loss: 6.202\n",
      "Step. time since epoch: 2.115. Train acc: 0.938. Train Loss: 7.945\n",
      "Step. time since epoch: 2.190. Train acc: 0.875. Train Loss: 9.893\n",
      "Step. time since epoch: 2.322. Train acc: 0.938. Train Loss: 6.364\n",
      "Step. time since epoch: 2.353. Train acc: 0.906. Train Loss: 7.245\n",
      "Step. time since epoch: 2.386. Train acc: 0.969. Train Loss: 4.793\n",
      "Step. time since epoch: 2.418. Train acc: 0.969. Train Loss: 6.021\n",
      "Step. time since epoch: 2.438. Train acc: 0.900. Train Loss: 4.726\n",
      "epoch 10, loss 0.2180, train acc 0.930, test acc 0.954, time 5.4 sec\n"
     ]
    }
   ],
   "source": [
    "lr, num_epochs = 0.001, 10\n",
    "trainer = torch.optim.Adam(model.parameters(), lr=lr)\n",
    "train(model, dataloaders_dict['train'], dataloaders_dict['val'], trainer, num_epochs, dev)"
   ]
  },
  {
   "cell_type": "code",
   "execution_count": 62,
   "metadata": {},
   "outputs": [],
   "source": [
    "# release CUDA\n",
    "model.eval()\n",
    "torch.cuda.empty_cache()"
   ]
  },
  {
   "cell_type": "markdown",
   "metadata": {},
   "source": [
    "# VGG 16 pretrained + aug"
   ]
  },
  {
   "cell_type": "code",
   "execution_count": 63,
   "metadata": {},
   "outputs": [],
   "source": [
    "model = models.vgg16(pretrained=True)"
   ]
  },
  {
   "cell_type": "markdown",
   "metadata": {},
   "source": [
    "train model"
   ]
  },
  {
   "cell_type": "code",
   "execution_count": 64,
   "metadata": {},
   "outputs": [],
   "source": [
    "model = model.to(dev)"
   ]
  },
  {
   "cell_type": "code",
   "execution_count": 65,
   "metadata": {
    "ExecuteTime": {
     "end_time": "2019-11-18T17:23:47.319979Z",
     "start_time": "2019-11-18T17:23:47.316747Z"
    }
   },
   "outputs": [],
   "source": [
    "## Убираем требование градиента:\n",
    "for param in model.parameters():\n",
    "    param.requires_grad = False"
   ]
  },
  {
   "cell_type": "code",
   "execution_count": 66,
   "metadata": {
    "ExecuteTime": {
     "end_time": "2019-11-18T17:24:04.770976Z",
     "start_time": "2019-11-18T17:24:04.766810Z"
    }
   },
   "outputs": [
    {
     "data": {
      "text/plain": [
       "Sequential(\n",
       "  (0): Linear(in_features=25088, out_features=4096, bias=True)\n",
       "  (1): ReLU(inplace=True)\n",
       "  (2): Dropout(p=0.5, inplace=False)\n",
       "  (3): Linear(in_features=4096, out_features=4096, bias=True)\n",
       "  (4): ReLU(inplace=True)\n",
       "  (5): Dropout(p=0.5, inplace=False)\n",
       "  (6): Linear(in_features=4096, out_features=1000, bias=True)\n",
       ")"
      ]
     },
     "execution_count": 66,
     "metadata": {},
     "output_type": "execute_result"
    }
   ],
   "source": [
    "model.classifier"
   ]
  },
  {
   "cell_type": "code",
   "execution_count": 67,
   "metadata": {
    "ExecuteTime": {
     "end_time": "2019-11-18T17:24:12.305790Z",
     "start_time": "2019-11-18T17:24:12.302517Z"
    }
   },
   "outputs": [],
   "source": [
    "model.classifier[6] = nn.Linear(in_features=4096, out_features=2).to(dev)"
   ]
  },
  {
   "cell_type": "code",
   "execution_count": 68,
   "metadata": {
    "ExecuteTime": {
     "end_time": "2019-11-18T17:24:42.228326Z",
     "start_time": "2019-11-18T17:24:42.222643Z"
    }
   },
   "outputs": [
    {
     "name": "stdout",
     "output_type": "stream",
     "text": [
      "Params to learn:\n",
      "\t classifier.6.weight\n",
      "\t classifier.6.bias\n"
     ]
    }
   ],
   "source": [
    "print(\"Params to learn:\")\n",
    "params_to_update = []\n",
    "for name,param in model.named_parameters():\n",
    "    if param.requires_grad == True:\n",
    "        params_to_update.append(param)\n",
    "        print(\"\\t\",name)"
   ]
  },
  {
   "cell_type": "code",
   "execution_count": 69,
   "metadata": {},
   "outputs": [],
   "source": [
    "def evaluate_accuracy(data_iter, net, dev):\n",
    "    acc_sum, n = torch.Tensor([0]).to(dev), 0\n",
    "    net.eval()\n",
    "    for X, y in data_iter:\n",
    "        X, y = X.to(dev), y.to(dev)\n",
    "        acc_sum += (net(X).argmax(axis=1) == y).sum()\n",
    "        n += y.shape[0]\n",
    "    return acc_sum.item() / n"
   ]
  },
  {
   "cell_type": "code",
   "execution_count": 70,
   "metadata": {},
   "outputs": [],
   "source": [
    "def train(net, train_iter, test_iter, trainer, num_epochs, dev):\n",
    "    loss = nn.CrossEntropyLoss(reduction='sum')\n",
    "    net.train()\n",
    "    for epoch in range(num_epochs):\n",
    "        train_l_sum, train_acc_sum, n, start = 0.0, 0.0, 0, time.time()\n",
    "        for X, y in train_iter:\n",
    "            trainer.zero_grad()\n",
    "            X, y = X.to(dev), y.to(dev)\n",
    "            y_hat = net(X)\n",
    "            l = loss(y_hat, y)\n",
    "            l.backward()\n",
    "            trainer.step()\n",
    "            train_l_sum += l.item()\n",
    "            train_acc_sum += (y_hat.argmax(axis=1) == y).sum().item()\n",
    "            n += y.shape[0]\n",
    "            print(\"Step. time since epoch: {:.3f}. Train acc: {:.3f}. Train Loss: {:.3f}\".format(time.time() -  start,\n",
    "                (y_hat.argmax(axis=1) == y).sum().item() / y.shape[0], l.item()))\n",
    "        test_acc = evaluate_accuracy(test_iter, net, dev)\n",
    "        print('epoch %d, loss %.4f, train acc %.3f, test acc %.3f, '\n",
    "              'time %.1f sec'\n",
    "              % (epoch + 1, train_l_sum / n, train_acc_sum / n, test_acc,\n",
    "                 time.time() - start))"
   ]
  },
  {
   "cell_type": "code",
   "execution_count": 71,
   "metadata": {},
   "outputs": [
    {
     "name": "stdout",
     "output_type": "stream",
     "text": [
      "Step. time since epoch: 2.264. Train acc: 0.562. Train Loss: 22.031\n",
      "Step. time since epoch: 2.340. Train acc: 0.688. Train Loss: 17.183\n",
      "Step. time since epoch: 2.414. Train acc: 0.844. Train Loss: 13.662\n",
      "Step. time since epoch: 2.495. Train acc: 0.812. Train Loss: 13.146\n",
      "Step. time since epoch: 2.566. Train acc: 0.938. Train Loss: 7.616\n",
      "Step. time since epoch: 2.637. Train acc: 0.906. Train Loss: 10.749\n",
      "Step. time since epoch: 2.707. Train acc: 0.906. Train Loss: 7.158\n",
      "Step. time since epoch: 2.761. Train acc: 0.800. Train Loss: 6.876\n",
      "epoch 1, loss 0.4034, train acc 0.807, test acc 0.954, time 5.6 sec\n",
      "Step. time since epoch: 2.252. Train acc: 0.938. Train Loss: 6.054\n",
      "Step. time since epoch: 2.448. Train acc: 0.906. Train Loss: 5.840\n",
      "Step. time since epoch: 2.556. Train acc: 0.969. Train Loss: 5.347\n",
      "Step. time since epoch: 2.678. Train acc: 0.938. Train Loss: 3.871\n",
      "Step. time since epoch: 2.751. Train acc: 0.875. Train Loss: 8.713\n",
      "Step. time since epoch: 2.819. Train acc: 0.969. Train Loss: 5.388\n",
      "Step. time since epoch: 2.888. Train acc: 0.969. Train Loss: 3.119\n",
      "Step. time since epoch: 2.944. Train acc: 1.000. Train Loss: 1.070\n",
      "epoch 2, loss 0.1615, train acc 0.943, test acc 0.948, time 6.3 sec\n",
      "Step. time since epoch: 2.483. Train acc: 0.969. Train Loss: 2.777\n",
      "Step. time since epoch: 2.755. Train acc: 0.969. Train Loss: 5.500\n",
      "Step. time since epoch: 2.965. Train acc: 0.969. Train Loss: 5.561\n",
      "Step. time since epoch: 3.087. Train acc: 1.000. Train Loss: 2.152\n",
      "Step. time since epoch: 3.162. Train acc: 0.906. Train Loss: 6.973\n",
      "Step. time since epoch: 3.240. Train acc: 0.969. Train Loss: 3.679\n",
      "Step. time since epoch: 3.308. Train acc: 0.938. Train Loss: 5.394\n",
      "Step. time since epoch: 3.364. Train acc: 0.950. Train Loss: 3.858\n",
      "epoch 3, loss 0.1471, train acc 0.959, test acc 0.948, time 6.6 sec\n",
      "Step. time since epoch: 2.276. Train acc: 0.906. Train Loss: 5.064\n",
      "Step. time since epoch: 2.448. Train acc: 0.938. Train Loss: 4.314\n",
      "Step. time since epoch: 2.593. Train acc: 0.969. Train Loss: 3.599\n",
      "Step. time since epoch: 2.705. Train acc: 0.969. Train Loss: 3.722\n",
      "Step. time since epoch: 2.784. Train acc: 0.969. Train Loss: 3.233\n",
      "Step. time since epoch: 2.856. Train acc: 0.906. Train Loss: 4.788\n",
      "Step. time since epoch: 2.924. Train acc: 0.906. Train Loss: 7.302\n",
      "Step. time since epoch: 2.978. Train acc: 0.900. Train Loss: 3.581\n",
      "epoch 4, loss 0.1459, train acc 0.934, test acc 0.954, time 6.3 sec\n",
      "Step. time since epoch: 2.149. Train acc: 0.969. Train Loss: 2.650\n",
      "Step. time since epoch: 2.228. Train acc: 0.938. Train Loss: 3.850\n",
      "Step. time since epoch: 2.411. Train acc: 0.906. Train Loss: 5.210\n",
      "Step. time since epoch: 2.558. Train acc: 1.000. Train Loss: 1.169\n",
      "Step. time since epoch: 2.628. Train acc: 0.969. Train Loss: 3.336\n",
      "Step. time since epoch: 2.696. Train acc: 0.969. Train Loss: 2.471\n",
      "Step. time since epoch: 2.765. Train acc: 0.906. Train Loss: 3.823\n",
      "Step. time since epoch: 2.818. Train acc: 0.950. Train Loss: 2.588\n",
      "epoch 5, loss 0.1029, train acc 0.951, test acc 0.954, time 6.0 sec\n",
      "Step. time since epoch: 2.068. Train acc: 0.938. Train Loss: 3.804\n",
      "Step. time since epoch: 2.298. Train acc: 0.969. Train Loss: 3.842\n",
      "Step. time since epoch: 2.413. Train acc: 0.906. Train Loss: 7.873\n",
      "Step. time since epoch: 2.557. Train acc: 0.938. Train Loss: 3.935\n",
      "Step. time since epoch: 2.627. Train acc: 1.000. Train Loss: 2.401\n",
      "Step. time since epoch: 2.695. Train acc: 0.969. Train Loss: 1.896\n",
      "Step. time since epoch: 2.764. Train acc: 1.000. Train Loss: 0.543\n",
      "Step. time since epoch: 2.819. Train acc: 1.000. Train Loss: 0.320\n",
      "epoch 6, loss 0.1009, train acc 0.963, test acc 0.967, time 6.0 sec\n",
      "Step. time since epoch: 2.157. Train acc: 0.969. Train Loss: 4.093\n",
      "Step. time since epoch: 2.343. Train acc: 1.000. Train Loss: 1.196\n",
      "Step. time since epoch: 2.554. Train acc: 0.969. Train Loss: 4.966\n",
      "Step. time since epoch: 2.642. Train acc: 1.000. Train Loss: 1.909\n",
      "Step. time since epoch: 2.715. Train acc: 1.000. Train Loss: 1.126\n",
      "Step. time since epoch: 2.785. Train acc: 0.969. Train Loss: 2.603\n",
      "Step. time since epoch: 2.855. Train acc: 0.969. Train Loss: 2.140\n",
      "Step. time since epoch: 2.909. Train acc: 1.000. Train Loss: 1.109\n",
      "epoch 7, loss 0.0784, train acc 0.984, test acc 0.961, time 6.1 sec\n",
      "Step. time since epoch: 2.382. Train acc: 1.000. Train Loss: 2.008\n",
      "Step. time since epoch: 2.463. Train acc: 0.969. Train Loss: 3.037\n",
      "Step. time since epoch: 2.646. Train acc: 0.938. Train Loss: 6.389\n",
      "Step. time since epoch: 2.858. Train acc: 0.969. Train Loss: 4.314\n",
      "Step. time since epoch: 2.945. Train acc: 0.969. Train Loss: 5.488\n",
      "Step. time since epoch: 3.018. Train acc: 1.000. Train Loss: 1.014\n",
      "Step. time since epoch: 3.086. Train acc: 1.000. Train Loss: 1.566\n",
      "Step. time since epoch: 3.139. Train acc: 1.000. Train Loss: 1.281\n",
      "epoch 8, loss 0.1029, train acc 0.980, test acc 0.961, time 6.2 sec\n",
      "Step. time since epoch: 2.228. Train acc: 0.906. Train Loss: 3.295\n",
      "Step. time since epoch: 2.486. Train acc: 0.938. Train Loss: 4.272\n",
      "Step. time since epoch: 2.618. Train acc: 0.969. Train Loss: 2.315\n",
      "Step. time since epoch: 2.751. Train acc: 1.000. Train Loss: 2.007\n",
      "Step. time since epoch: 2.820. Train acc: 1.000. Train Loss: 1.378\n",
      "Step. time since epoch: 2.888. Train acc: 0.938. Train Loss: 3.882\n",
      "Step. time since epoch: 2.957. Train acc: 0.906. Train Loss: 4.178\n",
      "Step. time since epoch: 3.017. Train acc: 1.000. Train Loss: 0.716\n",
      "epoch 9, loss 0.0903, train acc 0.955, test acc 0.954, time 6.0 sec\n",
      "Step. time since epoch: 2.097. Train acc: 0.969. Train Loss: 2.179\n",
      "Step. time since epoch: 2.323. Train acc: 0.875. Train Loss: 4.349\n",
      "Step. time since epoch: 2.412. Train acc: 1.000. Train Loss: 1.740\n",
      "Step. time since epoch: 2.500. Train acc: 0.938. Train Loss: 3.277\n",
      "Step. time since epoch: 2.571. Train acc: 0.969. Train Loss: 1.531\n",
      "Step. time since epoch: 2.640. Train acc: 0.969. Train Loss: 1.646\n",
      "Step. time since epoch: 2.708. Train acc: 1.000. Train Loss: 0.978\n",
      "Step. time since epoch: 2.762. Train acc: 0.950. Train Loss: 1.491\n",
      "epoch 10, loss 0.0705, train acc 0.959, test acc 0.954, time 6.0 sec\n"
     ]
    }
   ],
   "source": [
    "lr, num_epochs = 0.001, 10\n",
    "trainer = torch.optim.Adam(model.parameters(), lr=lr)\n",
    "train(model, dataloaders_dict['train'], dataloaders_dict['val'], trainer, num_epochs, dev)"
   ]
  },
  {
   "cell_type": "markdown",
   "metadata": {},
   "source": [
    "# Сравните качество всех 3 полученных подходов  \n"
   ]
  },
  {
   "cell_type": "markdown",
   "metadata": {},
   "source": [
    "Качество обучения на тестовой и валидационной выборках в случае finetuning оказалось наилучшим. При этом предполагаем, что с учетом аугментации данных модель становится стабильнее.  "
   ]
  },
  {
   "cell_type": "markdown",
   "metadata": {},
   "source": [
    "  \n",
    "# Задание со звездочкой  \n",
    "Примените FineTuning ResNet 18 к FashionMnist. Удалось ли увидеть резкое увеличение качества?  "
   ]
  },
  {
   "cell_type": "code",
   "execution_count": null,
   "metadata": {},
   "outputs": [],
   "source": []
  },
  {
   "cell_type": "code",
   "execution_count": null,
   "metadata": {},
   "outputs": [],
   "source": []
  },
  {
   "cell_type": "code",
   "execution_count": null,
   "metadata": {},
   "outputs": [],
   "source": []
  },
  {
   "cell_type": "code",
   "execution_count": null,
   "metadata": {},
   "outputs": [],
   "source": []
  },
  {
   "cell_type": "code",
   "execution_count": null,
   "metadata": {},
   "outputs": [],
   "source": []
  }
 ],
 "metadata": {
  "kernelspec": {
   "display_name": "Python 3",
   "language": "python",
   "name": "python3"
  },
  "language_info": {
   "codemirror_mode": {
    "name": "ipython",
    "version": 3
   },
   "file_extension": ".py",
   "mimetype": "text/x-python",
   "name": "python",
   "nbconvert_exporter": "python",
   "pygments_lexer": "ipython3",
   "version": "3.8.3"
  }
 },
 "nbformat": 4,
 "nbformat_minor": 4
}
