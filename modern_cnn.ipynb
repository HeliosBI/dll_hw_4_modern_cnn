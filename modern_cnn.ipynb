{
 "cells": [
  {
   "cell_type": "markdown",
   "metadata": {},
   "source": [
    "# Основное задание\n",
    "Возьмите датасет https://www.kaggle.com/ajayrana/hymenoptera-data/kernels  \n",
    "1.Обучите на нем модели ResNet 18 и VGG 16 с нуля (5-10 эпох)  \n",
    "2.Обучите на нем модели ResNet 18 и VGG 16 с использованием FineTuning (5-10 эпох)  \n",
    "3.Добавьте аугментацию данных к пункту 2  \n",
    "  \n",
    "Сравните качество всех 3 полученных подходов  \n",
    "  \n",
    "# Задание со звездочкой  \n",
    "Примените FineTuning ResNet 18 к FashionMnist. Удалось ли увидеть резкое увеличение качества?  "
   ]
  },
  {
   "cell_type": "markdown",
   "metadata": {},
   "source": [
    "import libraries"
   ]
  },
  {
   "cell_type": "code",
   "execution_count": 1,
   "metadata": {},
   "outputs": [],
   "source": [
    "import torch\n",
    "from torch import nn\n",
    "import torchvision.models as models\n",
    "\n",
    "import torchvision as tv\n",
    "import time\n",
    "\n",
    "import os"
   ]
  },
  {
   "cell_type": "code",
   "execution_count": 2,
   "metadata": {},
   "outputs": [],
   "source": [
    "dev = torch.device('cuda') if torch.cuda.is_available() else torch.device('cpu')"
   ]
  },
  {
   "cell_type": "code",
   "execution_count": 3,
   "metadata": {},
   "outputs": [
    {
     "data": {
      "text/plain": [
       "device(type='cuda')"
      ]
     },
     "execution_count": 3,
     "metadata": {},
     "output_type": "execute_result"
    }
   ],
   "source": [
    "dev"
   ]
  },
  {
   "cell_type": "markdown",
   "metadata": {},
   "source": [
    "helpers"
   ]
  },
  {
   "cell_type": "code",
   "execution_count": null,
   "metadata": {},
   "outputs": [],
   "source": []
  },
  {
   "cell_type": "markdown",
   "metadata": {},
   "source": [
    "load data"
   ]
  },
  {
   "cell_type": "code",
   "execution_count": 4,
   "metadata": {},
   "outputs": [],
   "source": [
    "data_dir = '../dll_hw_4_modern_cnn/hymenoptera_data/'"
   ]
  },
  {
   "cell_type": "code",
   "execution_count": 5,
   "metadata": {},
   "outputs": [],
   "source": [
    "BATCH_SIZE = 32"
   ]
  },
  {
   "cell_type": "code",
   "execution_count": 6,
   "metadata": {},
   "outputs": [
    {
     "name": "stdout",
     "output_type": "stream",
     "text": [
      "Initializing Datasets and Dataloaders...\n"
     ]
    }
   ],
   "source": [
    "# Data augmentation and normalization for training\n",
    "# Just normalization for validation\n",
    "data_transforms = {\n",
    "    'train': tv.transforms.Compose([\n",
    "        tv.transforms.RandomResizedCrop(224),\n",
    "        tv.transforms.RandomHorizontalFlip(),\n",
    "        tv.transforms.ToTensor(),\n",
    "        tv.transforms.Normalize([0.485, 0.456, 0.406], [0.229, 0.224, 0.225])\n",
    "    ]),\n",
    "    'val': tv.transforms.Compose([\n",
    "        tv.transforms.Resize(256),\n",
    "        tv.transforms.CenterCrop(224),\n",
    "        tv.transforms.ToTensor(),\n",
    "        tv.transforms.Normalize([0.485, 0.456, 0.406], [0.229, 0.224, 0.225])\n",
    "    ]),\n",
    "}\n",
    "\n",
    "print(\"Initializing Datasets and Dataloaders...\")\n",
    "\n",
    "# Create training and validation datasets\n",
    "image_datasets = {x: tv.datasets.ImageFolder(os.path.join(data_dir, x), data_transforms[x]) for x in ['train', 'val']}\n",
    "# Create training and validation dataloaders\n",
    "dataloaders_dict = {x: torch.utils.data.DataLoader(image_datasets[x], batch_size=BATCH_SIZE, shuffle=True, num_workers=4) for x in ['train', 'val']}\n",
    "\n",
    "# Detect if we have a GPU available\n",
    "device = torch.device(\"cuda:0\" if torch.cuda.is_available() else \"cpu\")"
   ]
  },
  {
   "cell_type": "markdown",
   "metadata": {},
   "source": [
    "create model"
   ]
  },
  {
   "cell_type": "code",
   "execution_count": 7,
   "metadata": {},
   "outputs": [],
   "source": [
    "# import torchvision.models as models\n",
    "# resnet18 = models.resnet18()\n",
    "# alexnet = models.alexnet()\n",
    "# vgg16 = models.vgg16()\n",
    "# squeezenet = models.squeezenet1_0()\n",
    "# densenet = models.densenet161()\n",
    "# inception = models.inception_v3()\n",
    "# googlenet = models.googlenet()\n",
    "# shufflenet = models.shufflenet_v2_x1_0()\n",
    "# mobilenet = models.mobilenet_v2()\n",
    "# resnext50_32x4d = models.resnext50_32x4d()\n",
    "# wide_resnet50_2 = models.wide_resnet50_2()\n",
    "# mnasnet = models.mnasnet1_0()"
   ]
  },
  {
   "cell_type": "code",
   "execution_count": 8,
   "metadata": {},
   "outputs": [],
   "source": [
    "# import torchvision.models as models\n",
    "# resnet18 = models.resnet18(pretrained=True)\n",
    "# alexnet = models.alexnet(pretrained=True)\n",
    "# squeezenet = models.squeezenet1_0(pretrained=True)\n",
    "# vgg16 = models.vgg16(pretrained=True)\n",
    "# densenet = models.densenet161(pretrained=True)\n",
    "# inception = models.inception_v3(pretrained=True)\n",
    "# googlenet = models.googlenet(pretrained=True)\n",
    "# shufflenet = models.shufflenet_v2_x1_0(pretrained=True)\n",
    "# mobilenet = models.mobilenet_v2(pretrained=True)\n",
    "# resnext50_32x4d = models.resnext50_32x4d(pretrained=True)\n",
    "# wide_resnet50_2 = models.wide_resnet50_2(pretrained=True)\n",
    "# mnasnet = models.mnasnet1_0(pretrained=True)"
   ]
  },
  {
   "cell_type": "markdown",
   "metadata": {},
   "source": [
    "# 1.Обучите на нем модели ResNet 18 и VGG 16 с нуля (5-10 эпох)"
   ]
  },
  {
   "cell_type": "markdown",
   "metadata": {},
   "source": [
    "# ResNet 18"
   ]
  },
  {
   "cell_type": "code",
   "execution_count": 9,
   "metadata": {},
   "outputs": [],
   "source": [
    "model = models.resnet18()"
   ]
  },
  {
   "cell_type": "markdown",
   "metadata": {},
   "source": [
    "train model"
   ]
  },
  {
   "cell_type": "code",
   "execution_count": 10,
   "metadata": {},
   "outputs": [],
   "source": [
    "model = model.to(dev)"
   ]
  },
  {
   "cell_type": "code",
   "execution_count": 11,
   "metadata": {},
   "outputs": [],
   "source": [
    "def evaluate_accuracy(data_iter, net, dev):\n",
    "    acc_sum, n = torch.Tensor([0]).to(dev), 0\n",
    "    net.eval()\n",
    "    for X, y in data_iter:\n",
    "        X, y = X.to(dev), y.to(dev)\n",
    "        acc_sum += (net(X).argmax(axis=1) == y).sum()\n",
    "        n += y.shape[0]\n",
    "    return acc_sum.item() / n"
   ]
  },
  {
   "cell_type": "code",
   "execution_count": 12,
   "metadata": {},
   "outputs": [],
   "source": [
    "def train(net, train_iter, test_iter, trainer, num_epochs, dev):\n",
    "    loss = nn.CrossEntropyLoss(reduction='sum')\n",
    "    net.train()\n",
    "    for epoch in range(num_epochs):\n",
    "        train_l_sum, train_acc_sum, n, start = 0.0, 0.0, 0, time.time()\n",
    "        for X, y in train_iter:\n",
    "            trainer.zero_grad()\n",
    "            X, y = X.to(dev), y.to(dev)\n",
    "            y_hat = net(X)\n",
    "            l = loss(y_hat, y)\n",
    "            l.backward()\n",
    "            trainer.step()\n",
    "            train_l_sum += l.item()\n",
    "            train_acc_sum += (y_hat.argmax(axis=1) == y).sum().item()\n",
    "            n += y.shape[0]\n",
    "            print(\"Step. time since epoch: {:.3f}. Train acc: {:.3f}. Train Loss: {:.3f}\".format(time.time() -  start,\n",
    "                (y_hat.argmax(axis=1) == y).sum().item() / y.shape[0], l.item()))\n",
    "        test_acc = evaluate_accuracy(test_iter, net, dev)\n",
    "        print('epoch %d, loss %.4f, train acc %.3f, test acc %.3f, '\n",
    "              'time %.1f sec'\n",
    "              % (epoch + 1, train_l_sum / n, train_acc_sum / n, test_acc,\n",
    "                 time.time() - start))"
   ]
  },
  {
   "cell_type": "code",
   "execution_count": 13,
   "metadata": {},
   "outputs": [
    {
     "name": "stdout",
     "output_type": "stream",
     "text": [
      "Step. time since epoch: 3.645. Train acc: 0.000. Train Loss: 253.219\n",
      "Step. time since epoch: 3.708. Train acc: 0.312. Train Loss: 255.453\n",
      "Step. time since epoch: 3.771. Train acc: 0.500. Train Loss: 164.689\n",
      "Step. time since epoch: 3.834. Train acc: 0.531. Train Loss: 142.716\n",
      "Step. time since epoch: 3.899. Train acc: 0.438. Train Loss: 133.564\n",
      "Step. time since epoch: 3.959. Train acc: 0.594. Train Loss: 86.072\n",
      "Step. time since epoch: 4.015. Train acc: 0.656. Train Loss: 58.152\n",
      "Step. time since epoch: 4.057. Train acc: 0.650. Train Loss: 35.578\n",
      "epoch 1, loss 4.6289, train acc 0.451, test acc 0.124, time 6.7 sec\n",
      "Step. time since epoch: 1.918. Train acc: 0.156. Train Loss: 871.940\n",
      "Step. time since epoch: 2.081. Train acc: 0.562. Train Loss: 71.327\n",
      "Step. time since epoch: 2.173. Train acc: 0.438. Train Loss: 49.724\n",
      "Step. time since epoch: 2.234. Train acc: 0.406. Train Loss: 46.006\n",
      "Step. time since epoch: 2.295. Train acc: 0.438. Train Loss: 25.063\n",
      "Step. time since epoch: 2.358. Train acc: 0.562. Train Loss: 27.398\n",
      "Step. time since epoch: 2.416. Train acc: 0.406. Train Loss: 32.339\n",
      "Step. time since epoch: 2.457. Train acc: 0.400. Train Loss: 17.563\n",
      "epoch 2, loss 4.6777, train acc 0.422, test acc 0.542, time 5.1 sec\n",
      "Step. time since epoch: 1.937. Train acc: 0.594. Train Loss: 28.038\n",
      "Step. time since epoch: 2.014. Train acc: 0.531. Train Loss: 58.860\n",
      "Step. time since epoch: 2.203. Train acc: 0.531. Train Loss: 26.775\n",
      "Step. time since epoch: 2.264. Train acc: 0.438. Train Loss: 24.958\n",
      "Step. time since epoch: 2.325. Train acc: 0.531. Train Loss: 22.311\n",
      "Step. time since epoch: 2.383. Train acc: 0.500. Train Loss: 24.025\n",
      "Step. time since epoch: 2.441. Train acc: 0.344. Train Loss: 28.245\n",
      "Step. time since epoch: 2.482. Train acc: 0.500. Train Loss: 14.001\n",
      "epoch 3, loss 0.9312, train acc 0.496, test acc 0.458, time 5.1 sec\n",
      "Step. time since epoch: 1.899. Train acc: 0.344. Train Loss: 23.983\n",
      "Step. time since epoch: 1.979. Train acc: 0.438. Train Loss: 23.337\n",
      "Step. time since epoch: 2.077. Train acc: 0.531. Train Loss: 22.138\n",
      "Step. time since epoch: 2.198. Train acc: 0.625. Train Loss: 22.165\n",
      "Step. time since epoch: 2.262. Train acc: 0.625. Train Loss: 21.830\n",
      "Step. time since epoch: 2.323. Train acc: 0.406. Train Loss: 23.520\n",
      "Step. time since epoch: 2.382. Train acc: 0.469. Train Loss: 22.666\n",
      "Step. time since epoch: 2.425. Train acc: 0.600. Train Loss: 13.727\n",
      "epoch 4, loss 0.7105, train acc 0.500, test acc 0.536, time 5.2 sec\n",
      "Step. time since epoch: 1.923. Train acc: 0.625. Train Loss: 22.066\n",
      "Step. time since epoch: 2.027. Train acc: 0.500. Train Loss: 22.327\n",
      "Step. time since epoch: 2.107. Train acc: 0.625. Train Loss: 21.434\n",
      "Step. time since epoch: 2.203. Train acc: 0.500. Train Loss: 23.055\n",
      "Step. time since epoch: 2.259. Train acc: 0.500. Train Loss: 22.549\n",
      "Step. time since epoch: 2.316. Train acc: 0.438. Train Loss: 22.421\n",
      "Step. time since epoch: 2.374. Train acc: 0.500. Train Loss: 22.374\n",
      "Step. time since epoch: 2.414. Train acc: 0.700. Train Loss: 12.384\n",
      "epoch 5, loss 0.6910, train acc 0.541, test acc 0.458, time 5.0 sec\n",
      "Step. time since epoch: 1.901. Train acc: 0.469. Train Loss: 24.939\n",
      "Step. time since epoch: 2.037. Train acc: 0.469. Train Loss: 24.544\n",
      "Step. time since epoch: 2.139. Train acc: 0.438. Train Loss: 23.468\n",
      "Step. time since epoch: 2.201. Train acc: 0.469. Train Loss: 22.365\n",
      "Step. time since epoch: 2.260. Train acc: 0.406. Train Loss: 23.318\n",
      "Step. time since epoch: 2.317. Train acc: 0.688. Train Loss: 20.535\n",
      "Step. time since epoch: 2.376. Train acc: 0.500. Train Loss: 22.963\n",
      "Step. time since epoch: 2.416. Train acc: 0.250. Train Loss: 16.261\n",
      "epoch 6, loss 0.7311, train acc 0.471, test acc 0.536, time 5.0 sec\n",
      "Step. time since epoch: 1.884. Train acc: 0.375. Train Loss: 23.120\n",
      "Step. time since epoch: 1.982. Train acc: 0.500. Train Loss: 22.116\n",
      "Step. time since epoch: 2.068. Train acc: 0.500. Train Loss: 23.473\n",
      "Step. time since epoch: 2.237. Train acc: 0.531. Train Loss: 23.370\n",
      "Step. time since epoch: 2.296. Train acc: 0.531. Train Loss: 23.351\n",
      "Step. time since epoch: 2.354. Train acc: 0.531. Train Loss: 22.915\n",
      "Step. time since epoch: 2.410. Train acc: 0.406. Train Loss: 24.278\n",
      "Step. time since epoch: 2.452. Train acc: 0.300. Train Loss: 14.215\n",
      "epoch 7, loss 0.7247, train acc 0.467, test acc 0.542, time 5.1 sec\n",
      "Step. time since epoch: 1.886. Train acc: 0.438. Train Loss: 23.350\n",
      "Step. time since epoch: 2.022. Train acc: 0.500. Train Loss: 23.438\n",
      "Step. time since epoch: 2.100. Train acc: 0.375. Train Loss: 26.150\n",
      "Step. time since epoch: 2.216. Train acc: 0.562. Train Loss: 21.653\n",
      "Step. time since epoch: 2.276. Train acc: 0.531. Train Loss: 21.834\n",
      "Step. time since epoch: 2.336. Train acc: 0.406. Train Loss: 22.298\n",
      "Step. time since epoch: 2.394. Train acc: 0.469. Train Loss: 22.487\n",
      "Step. time since epoch: 2.435. Train acc: 0.350. Train Loss: 15.105\n",
      "epoch 8, loss 0.7226, train acc 0.459, test acc 0.458, time 5.1 sec\n",
      "Step. time since epoch: 1.911. Train acc: 0.625. Train Loss: 21.137\n",
      "Step. time since epoch: 2.005. Train acc: 0.469. Train Loss: 22.927\n",
      "Step. time since epoch: 2.115. Train acc: 0.500. Train Loss: 22.143\n",
      "Step. time since epoch: 2.252. Train acc: 0.531. Train Loss: 22.150\n",
      "Step. time since epoch: 2.310. Train acc: 0.438. Train Loss: 22.147\n",
      "Step. time since epoch: 2.369. Train acc: 0.719. Train Loss: 21.212\n",
      "Step. time since epoch: 2.426. Train acc: 0.500. Train Loss: 22.766\n",
      "Step. time since epoch: 2.467. Train acc: 0.600. Train Loss: 13.609\n",
      "epoch 9, loss 0.6889, train acc 0.545, test acc 0.536, time 5.2 sec\n",
      "Step. time since epoch: 1.896. Train acc: 0.406. Train Loss: 23.883\n",
      "Step. time since epoch: 2.065. Train acc: 0.594. Train Loss: 22.082\n",
      "Step. time since epoch: 2.140. Train acc: 0.500. Train Loss: 22.536\n",
      "Step. time since epoch: 2.237. Train acc: 0.531. Train Loss: 21.171\n",
      "Step. time since epoch: 2.299. Train acc: 0.625. Train Loss: 21.040\n",
      "Step. time since epoch: 2.355. Train acc: 0.438. Train Loss: 22.171\n",
      "Step. time since epoch: 2.412. Train acc: 0.438. Train Loss: 22.450\n",
      "Step. time since epoch: 2.454. Train acc: 0.850. Train Loss: 13.255\n",
      "epoch 10, loss 0.6909, train acc 0.533, test acc 0.536, time 5.1 sec\n"
     ]
    }
   ],
   "source": [
    "lr, num_epochs = 0.001, 10\n",
    "trainer = torch.optim.Adam(model.parameters(), lr=lr)\n",
    "train(model, dataloaders_dict['train'], dataloaders_dict['val'], trainer, num_epochs, dev)"
   ]
  },
  {
   "cell_type": "code",
   "execution_count": 14,
   "metadata": {},
   "outputs": [],
   "source": [
    "# release CUDA\n",
    "model.eval()\n",
    "torch.cuda.empty_cache()"
   ]
  },
  {
   "cell_type": "markdown",
   "metadata": {},
   "source": [
    "# VGG 16"
   ]
  },
  {
   "cell_type": "code",
   "execution_count": 15,
   "metadata": {},
   "outputs": [],
   "source": [
    "model = models.vgg16()"
   ]
  },
  {
   "cell_type": "markdown",
   "metadata": {},
   "source": [
    "train model"
   ]
  },
  {
   "cell_type": "code",
   "execution_count": 16,
   "metadata": {},
   "outputs": [],
   "source": [
    "model = model.to(dev)"
   ]
  },
  {
   "cell_type": "code",
   "execution_count": 17,
   "metadata": {},
   "outputs": [],
   "source": [
    "def evaluate_accuracy(data_iter, net, dev):\n",
    "    acc_sum, n = torch.Tensor([0]).to(dev), 0\n",
    "    net.eval()\n",
    "    for X, y in data_iter:\n",
    "        X, y = X.to(dev), y.to(dev)\n",
    "        acc_sum += (net(X).argmax(axis=1) == y).sum()\n",
    "        n += y.shape[0]\n",
    "    return acc_sum.item() / n"
   ]
  },
  {
   "cell_type": "code",
   "execution_count": 18,
   "metadata": {},
   "outputs": [],
   "source": [
    "def train(net, train_iter, test_iter, trainer, num_epochs, dev):\n",
    "    loss = nn.CrossEntropyLoss(reduction='sum')\n",
    "    net.train()\n",
    "    for epoch in range(num_epochs):\n",
    "        train_l_sum, train_acc_sum, n, start = 0.0, 0.0, 0, time.time()\n",
    "        for X, y in train_iter:\n",
    "            trainer.zero_grad()\n",
    "            X, y = X.to(dev), y.to(dev)\n",
    "            y_hat = net(X)\n",
    "            l = loss(y_hat, y)\n",
    "            l.backward()\n",
    "            trainer.step()\n",
    "            train_l_sum += l.item()\n",
    "            train_acc_sum += (y_hat.argmax(axis=1) == y).sum().item()\n",
    "            n += y.shape[0]\n",
    "            print(\"Step. time since epoch: {:.3f}. Train acc: {:.3f}. Train Loss: {:.3f}\".format(time.time() -  start,\n",
    "                (y_hat.argmax(axis=1) == y).sum().item() / y.shape[0], l.item()))\n",
    "        test_acc = evaluate_accuracy(test_iter, net, dev)\n",
    "        print('epoch %d, loss %.4f, train acc %.3f, test acc %.3f, '\n",
    "              'time %.1f sec'\n",
    "              % (epoch + 1, train_l_sum / n, train_acc_sum / n, test_acc,\n",
    "                 time.time() - start))"
   ]
  },
  {
   "cell_type": "code",
   "execution_count": 19,
   "metadata": {},
   "outputs": [
    {
     "name": "stdout",
     "output_type": "stream",
     "text": [
      "Step. time since epoch: 2.229. Train acc: 0.000. Train Loss: 221.575\n",
      "Step. time since epoch: 2.440. Train acc: 0.562. Train Loss: 1652.128\n",
      "Step. time since epoch: 2.652. Train acc: 0.531. Train Loss: 156.399\n",
      "Step. time since epoch: 2.860. Train acc: 0.406. Train Loss: 3147.367\n",
      "Step. time since epoch: 3.071. Train acc: 0.562. Train Loss: 190.053\n",
      "Step. time since epoch: 3.281. Train acc: 0.500. Train Loss: 208.997\n",
      "Step. time since epoch: 3.493. Train acc: 0.594. Train Loss: 201.230\n",
      "Step. time since epoch: 3.652. Train acc: 0.500. Train Loss: 113.478\n",
      "epoch 1, loss 24.1444, train acc 0.455, test acc 0.458, time 6.6 sec\n",
      "Step. time since epoch: 2.272. Train acc: 0.562. Train Loss: 100.374\n",
      "Step. time since epoch: 2.495. Train acc: 0.469. Train Loss: 400.974\n",
      "Step. time since epoch: 2.704. Train acc: 0.438. Train Loss: 110.751\n",
      "Step. time since epoch: 2.914. Train acc: 0.625. Train Loss: 140.192\n",
      "Step. time since epoch: 3.122. Train acc: 0.500. Train Loss: 151.107\n",
      "Step. time since epoch: 3.332. Train acc: 0.375. Train Loss: 143.051\n",
      "Step. time since epoch: 3.540. Train acc: 0.438. Train Loss: 103.702\n",
      "Step. time since epoch: 3.699. Train acc: 0.700. Train Loss: 29.923\n",
      "epoch 2, loss 4.8364, train acc 0.504, test acc 0.458, time 6.7 sec\n",
      "Step. time since epoch: 2.195. Train acc: 0.562. Train Loss: 83.909\n",
      "Step. time since epoch: 2.413. Train acc: 0.375. Train Loss: 116.706\n",
      "Step. time since epoch: 2.627. Train acc: 0.531. Train Loss: 71.482\n",
      "Step. time since epoch: 2.836. Train acc: 0.344. Train Loss: 76.338\n",
      "Step. time since epoch: 3.045. Train acc: 0.531. Train Loss: 42.478\n",
      "Step. time since epoch: 3.253. Train acc: 0.594. Train Loss: 38.743\n",
      "Step. time since epoch: 3.462. Train acc: 0.562. Train Loss: 37.170\n",
      "Step. time since epoch: 3.622. Train acc: 0.550. Train Loss: 18.223\n",
      "epoch 3, loss 1.9879, train acc 0.504, test acc 0.542, time 6.6 sec\n",
      "Step. time since epoch: 2.303. Train acc: 0.312. Train Loss: 26.431\n",
      "Step. time since epoch: 2.518. Train acc: 0.469. Train Loss: 24.481\n",
      "Step. time since epoch: 2.727. Train acc: 0.500. Train Loss: 24.205\n",
      "Step. time since epoch: 2.936. Train acc: 0.438. Train Loss: 25.256\n",
      "Step. time since epoch: 3.145. Train acc: 0.562. Train Loss: 21.974\n",
      "Step. time since epoch: 3.356. Train acc: 0.500. Train Loss: 22.183\n",
      "Step. time since epoch: 3.565. Train acc: 0.281. Train Loss: 24.804\n",
      "Step. time since epoch: 3.724. Train acc: 0.550. Train Loss: 13.771\n",
      "epoch 4, loss 0.7504, train acc 0.447, test acc 0.542, time 6.6 sec\n",
      "Step. time since epoch: 2.307. Train acc: 0.562. Train Loss: 22.175\n",
      "Step. time since epoch: 2.525. Train acc: 0.625. Train Loss: 21.419\n",
      "Step. time since epoch: 2.734. Train acc: 0.500. Train Loss: 23.647\n",
      "Step. time since epoch: 2.944. Train acc: 0.531. Train Loss: 23.223\n",
      "Step. time since epoch: 3.153. Train acc: 0.562. Train Loss: 22.090\n",
      "Step. time since epoch: 3.364. Train acc: 0.281. Train Loss: 23.478\n",
      "Step. time since epoch: 3.573. Train acc: 0.500. Train Loss: 23.495\n",
      "Step. time since epoch: 3.733. Train acc: 0.650. Train Loss: 13.241\n",
      "epoch 5, loss 0.7081, train acc 0.520, test acc 0.458, time 6.7 sec\n",
      "Step. time since epoch: 2.555. Train acc: 0.594. Train Loss: 24.394\n",
      "Step. time since epoch: 2.772. Train acc: 0.469. Train Loss: 28.491\n",
      "Step. time since epoch: 2.981. Train acc: 0.406. Train Loss: 25.025\n",
      "Step. time since epoch: 3.193. Train acc: 0.469. Train Loss: 23.260\n",
      "Step. time since epoch: 3.401. Train acc: 0.438. Train Loss: 28.329\n",
      "Step. time since epoch: 3.612. Train acc: 0.531. Train Loss: 25.064\n",
      "Step. time since epoch: 3.823. Train acc: 0.500. Train Loss: 23.703\n",
      "Step. time since epoch: 3.981. Train acc: 0.500. Train Loss: 13.866\n",
      "epoch 6, loss 0.7874, train acc 0.488, test acc 0.458, time 7.1 sec\n",
      "Step. time since epoch: 2.464. Train acc: 0.531. Train Loss: 22.598\n",
      "Step. time since epoch: 2.679. Train acc: 0.500. Train Loss: 24.616\n",
      "Step. time since epoch: 2.888. Train acc: 0.469. Train Loss: 25.451\n",
      "Step. time since epoch: 3.099. Train acc: 0.562. Train Loss: 22.180\n",
      "Step. time since epoch: 3.306. Train acc: 0.406. Train Loss: 22.802\n",
      "Step. time since epoch: 3.517. Train acc: 0.562. Train Loss: 21.939\n",
      "Step. time since epoch: 3.728. Train acc: 0.438. Train Loss: 25.491\n",
      "Step. time since epoch: 3.887. Train acc: 0.400. Train Loss: 16.676\n",
      "epoch 7, loss 0.7449, train acc 0.488, test acc 0.542, time 7.0 sec\n",
      "Step. time since epoch: 2.314. Train acc: 0.500. Train Loss: 23.383\n",
      "Step. time since epoch: 2.529. Train acc: 0.312. Train Loss: 23.872\n",
      "Step. time since epoch: 2.743. Train acc: 0.531. Train Loss: 22.179\n",
      "Step. time since epoch: 2.953. Train acc: 0.562. Train Loss: 22.440\n",
      "Step. time since epoch: 3.162. Train acc: 0.406. Train Loss: 27.278\n",
      "Step. time since epoch: 3.375. Train acc: 0.469. Train Loss: 24.821\n",
      "Step. time since epoch: 3.583. Train acc: 0.375. Train Loss: 24.066\n",
      "Step. time since epoch: 3.745. Train acc: 0.500. Train Loss: 14.243\n",
      "epoch 8, loss 0.7471, train acc 0.455, test acc 0.542, time 6.6 sec\n",
      "Step. time since epoch: 2.230. Train acc: 0.406. Train Loss: 26.969\n",
      "Step. time since epoch: 2.447. Train acc: 0.531. Train Loss: 22.216\n",
      "Step. time since epoch: 2.658. Train acc: 0.562. Train Loss: 22.198\n",
      "Step. time since epoch: 2.868. Train acc: 0.375. Train Loss: 24.932\n",
      "Step. time since epoch: 3.077. Train acc: 0.594. Train Loss: 21.911\n",
      "Step. time since epoch: 3.287. Train acc: 0.312. Train Loss: 22.915\n",
      "Step. time since epoch: 3.498. Train acc: 0.562. Train Loss: 22.126\n",
      "Step. time since epoch: 3.657. Train acc: 0.200. Train Loss: 15.387\n",
      "epoch 9, loss 0.7322, train acc 0.455, test acc 0.542, time 6.6 sec\n",
      "Step. time since epoch: 2.268. Train acc: 0.438. Train Loss: 22.867\n",
      "Step. time since epoch: 2.488. Train acc: 0.500. Train Loss: 22.300\n",
      "Step. time since epoch: 2.704. Train acc: 0.500. Train Loss: 22.203\n",
      "Step. time since epoch: 2.915. Train acc: 0.594. Train Loss: 22.144\n",
      "Step. time since epoch: 3.127. Train acc: 0.625. Train Loss: 21.679\n",
      "Step. time since epoch: 3.338. Train acc: 0.469. Train Loss: 22.907\n",
      "Step. time since epoch: 3.546. Train acc: 0.375. Train Loss: 24.273\n",
      "Step. time since epoch: 3.708. Train acc: 0.350. Train Loss: 14.893\n",
      "epoch 10, loss 0.7101, train acc 0.488, test acc 0.458, time 6.5 sec\n"
     ]
    }
   ],
   "source": [
    "lr, num_epochs = 0.001, 10\n",
    "trainer = torch.optim.Adam(model.parameters(), lr=lr)\n",
    "train(model, dataloaders_dict['train'], dataloaders_dict['val'], trainer, num_epochs, dev)"
   ]
  },
  {
   "cell_type": "markdown",
   "metadata": {},
   "source": [
    "# 2.Обучите на нем модели ResNet 18 и VGG 16 с использованием FineTuning (5-10 эпох)"
   ]
  },
  {
   "cell_type": "code",
   "execution_count": null,
   "metadata": {},
   "outputs": [],
   "source": []
  },
  {
   "cell_type": "code",
   "execution_count": null,
   "metadata": {},
   "outputs": [],
   "source": []
  },
  {
   "cell_type": "code",
   "execution_count": null,
   "metadata": {},
   "outputs": [],
   "source": []
  },
  {
   "cell_type": "code",
   "execution_count": null,
   "metadata": {},
   "outputs": [],
   "source": []
  },
  {
   "cell_type": "code",
   "execution_count": null,
   "metadata": {},
   "outputs": [],
   "source": []
  },
  {
   "cell_type": "code",
   "execution_count": null,
   "metadata": {},
   "outputs": [],
   "source": []
  }
 ],
 "metadata": {
  "kernelspec": {
   "display_name": "Python 3",
   "language": "python",
   "name": "python3"
  },
  "language_info": {
   "codemirror_mode": {
    "name": "ipython",
    "version": 3
   },
   "file_extension": ".py",
   "mimetype": "text/x-python",
   "name": "python",
   "nbconvert_exporter": "python",
   "pygments_lexer": "ipython3",
   "version": "3.8.3"
  }
 },
 "nbformat": 4,
 "nbformat_minor": 4
}
